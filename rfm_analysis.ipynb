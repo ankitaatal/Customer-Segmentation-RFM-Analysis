{
 "cells": [
  {
   "cell_type": "markdown",
   "id": "6c0816bc-83b2-4e1f-943d-ca8798cccd41",
   "metadata": {},
   "source": [
    "# <span style=\"color: darkblue;\">**Customer Segmentation - RFM Analysis**</span>\r\n",
    "\n",
    "This project aims to analyze transactional data from an online UK-based retail store, covering customer purchases made between December 2010 and December 2011. Our primary goal is to segment customers using **Recency, Frequency, and Monetary (RFM) analysis**, allowing us to better understand customer loyalty and spending patterns. Additionally, we will explore sales trends, product performance, and customer demographics to gain deeper insights into purchasing behavior.  \n",
    "\n",
    "### **Key Steps in This Analysis:**  \n",
    "\n",
    "1. **[Data Preprocessing](#section1)**: *Loading transactional data into an SQLite database for efficient querying and analysis.*  \n",
    "2. **[Exploratory Data Analysis (EDA)](#section2)**: *Analyzing sales trends, product performance, and customer demographics to set the foundation for customer segmentation.*  \n",
    "3. **[RFM Analysis](#section3)**: *Calculating and assigning RFM scores to segment customers based on their purchasing behavior and overall value.*  \n",
    "4. **[Insights & Recommendations](#section4)**: *Deriving actionable strategies from segment performance to optimize retention, reactivation, and revenue growth.*"
   ]
  },
  {
   "cell_type": "markdown",
   "id": "4a39178d-f033-4ba8-84f3-5f18e9f21610",
   "metadata": {},
   "source": [
    "<a id=\"section1\"></a>\n",
    "## <span style=\"color: #0D47A1;\">**Data Preprocessing**</span>\r\n",
    "\n",
    "---"
   ]
  },
  {
   "cell_type": "code",
   "execution_count": 3,
   "id": "27dc0fc0-ee7a-48b5-9857-afa4a0238ba4",
   "metadata": {},
   "outputs": [],
   "source": [
    "# Library for importing database\n",
    "import pandas as pd\n",
    "import sqlite3\n",
    "\n",
    "# Library for visualisation\n",
    "import numpy as np\n",
    "import seaborn as sns\n",
    "import matplotlib.pyplot as plt\n",
    "from matplotlib.patches import Rectangle\n",
    "from matplotlib.colors import ListedColormap\n",
    "from matplotlib.colors import Normalize\n",
    "from matplotlib import colormaps\n",
    "import plotly.express as px\n",
    "import plotly.graph_objects as go\n",
    "from plotly.subplots import make_subplots"
   ]
  },
  {
   "cell_type": "code",
   "execution_count": null,
   "id": "6c99e743-9801-447f-b610-b66f0ac779ad",
   "metadata": {},
   "outputs": [],
   "source": [
    "# Load the cleaned dataset\n",
    "df = pd.read_csv(\"online_retail_cleaned.csv\")  \n",
    "\n",
    "# Connect to SQLite database\n",
    "conn = sqlite3.connect(\"online_retail.db\")\n",
    "cursor = conn.cursor()\n",
    "\n",
    "# Create Table with Explicit Schema\n",
    "cursor.execute(\"\"\"\n",
    "    CREATE TABLE IF NOT EXISTS online_retail (\n",
    "        invoice_no TEXT NOT NULL,\n",
    "        stock_code TEXT NOT NULL,\n",
    "        description TEXT,\n",
    "        quantity INTEGER NOT NULL,\n",
    "        invoice_date TEXT NOT NULL,\n",
    "        invoice_time TEXT,\n",
    "        unit_price DECIMAL(10,2) NOT NULL,\n",
    "        customer_id TEXT,  \n",
    "        country TEXT NOT NULL,\n",
    "        total_sales DECIMAL(10,2) NOT NULL\n",
    "    );\n",
    "\"\"\")\n",
    "\n",
    "# Commit changes\n",
    "conn.commit()\n",
    "\n",
    "# Insert data into the defined table\n",
    "df.to_sql(\"online_retail\", conn, if_exists=\"replace\", index=False, dtype={\n",
    "    \"invoice_no\": \"TEXT\",\n",
    "    \"stock_code\": \"TEXT\",\n",
    "    \"description\": \"TEXT\",\n",
    "    \"quantity\": \"INTEGER\",\n",
    "    \"invoice_date\": \"TEXT\",\n",
    "    \"invoice_time\": \"TEXT\",\n",
    "    \"unit_price\": \"DECIMAL(10,2)\",\n",
    "    \"customer_id\": \"TEXT\",  \n",
    "    \"country\": \"TEXT\",\n",
    "    \"total_sales\": \"DECIMAL(10,2)\"\n",
    "})"
   ]
  },
  {
   "cell_type": "code",
   "execution_count": 4,
   "id": "ffed5e40-087b-4b32-8ff1-13345b289e2b",
   "metadata": {},
   "outputs": [
    {
     "data": {
      "text/html": [
       "<span style=\"None\">Connecting to &#x27;sqlite:///online_retail.db&#x27;</span>"
      ],
      "text/plain": [
       "Connecting to 'sqlite:///online_retail.db'"
      ]
     },
     "metadata": {},
     "output_type": "display_data"
    }
   ],
   "source": [
    "# Load SQL extension for Jupyter Notebook\n",
    "%load_ext sql\n",
    "\n",
    "# Connect to the SQLite database\n",
    "%sql sqlite:///online_retail.db\n",
    "\n",
    "# Removing the display limit\n",
    "%config SqlMagic.displaylimit = 0"
   ]
  },
  {
   "cell_type": "code",
   "execution_count": null,
   "id": "859678a3-07ac-48f9-81c5-3081cc861811",
   "metadata": {},
   "outputs": [],
   "source": [
    "%%sql\n",
    "PRAGMA table_info(online_retail);"
   ]
  },
  {
   "cell_type": "code",
   "execution_count": null,
   "id": "f841c0ad-ccec-45f9-9a91-65c703448565",
   "metadata": {},
   "outputs": [],
   "source": [
    "%%sql\n",
    "SELECT * FROM online_retail LIMIT 5;"
   ]
  },
  {
   "cell_type": "markdown",
   "id": "dfb257c2-e460-4d0a-bd78-14909004a212",
   "metadata": {},
   "source": [
    "<a id=\"section2\"></a>\n",
    "## <span style=\"color: #0D47A1;\">**Exploratory Data Analysis (EDA)**</span>\n",
    "\n",
    "---"
   ]
  },
  {
   "cell_type": "markdown",
   "id": "c70ecbab-9850-4cdf-b4e8-0cdc07fbe665",
   "metadata": {},
   "source": [
    "### **1. Key Performance Indicators (KPIs):**\n",
    "- *Total Number of Transactions* \n",
    "- *Total Revenue Generated*\n",
    "- *Number of Unique Customers* \n",
    "- *Average Order Value (AOV)*"
   ]
  },
  {
   "cell_type": "code",
   "execution_count": null,
   "id": "f832d1d9-0c3e-4217-ab25-0380d3b3bd2c",
   "metadata": {},
   "outputs": [],
   "source": [
    "%%sql\n",
    "SELECT \n",
    "    COUNT(DISTINCT invoice_no) AS total_transactions,\n",
    "    ROUND(SUM(total_sales), 2) AS total_revenue,\n",
    "    COUNT(DISTINCT customer_id) AS unique_customers,\n",
    "    ROUND(SUM(total_sales) / COUNT(DISTINCT invoice_no), 2) AS avg_order_value\n",
    "FROM online_retail;"
   ]
  },
  {
   "cell_type": "markdown",
   "id": "284bec79-eb0d-42c9-ac5b-44aafc7c09dc",
   "metadata": {},
   "source": [
    "> The dataset contains **18,402 unique transactions**, generating a **total revenue of £8.74 million**. There are **4,334 unique customers**, and the **average order value (AOV)** is approximately **£474.80**, indicating a relatively high spend per transaction on average."
   ]
  },
  {
   "cell_type": "markdown",
   "id": "40a8ca88-d838-4740-9e17-5bba3346609a",
   "metadata": {},
   "source": [
    "### 2. **Revenue Trends Over Time**\n",
    "*How much revenue was gained or lost month-over-month?*"
   ]
  },
  {
   "cell_type": "code",
   "execution_count": null,
   "id": "f2794e29-8ad4-404a-9be8-96f9e3fc88be",
   "metadata": {},
   "outputs": [],
   "source": [
    "query = \"\"\"\n",
    "WITH monthly_revenue AS (\n",
    "    SELECT strftime('%Y-%m', invoice_date) AS month, \n",
    "           ROUND(SUM(total_sales), 2) AS monthly_revenue\n",
    "    FROM online_retail\n",
    "    GROUP BY month\n",
    "    ORDER BY month\n",
    ")\n",
    "SELECT \n",
    "    month, \n",
    "    monthly_revenue,\n",
    "    ROUND(((monthly_revenue - LAG(monthly_revenue) OVER (ORDER BY month)) / \n",
    "          LAG(monthly_revenue) OVER (ORDER BY month)) * 100, 2) AS growth_rate,\n",
    "    CASE \n",
    "        WHEN (monthly_revenue - LAG(monthly_revenue) OVER (ORDER BY month)) >= 0 \n",
    "        THEN '+' || ROUND((monthly_revenue - LAG(monthly_revenue) OVER (ORDER BY month)), 2)\n",
    "        ELSE ROUND((monthly_revenue - LAG(monthly_revenue) OVER (ORDER BY month)), 2)\n",
    "    END AS revenue_change\n",
    "FROM monthly_revenue;\n",
    "\"\"\"\n",
    "\n",
    "df_revenue = pd.read_sql(query, conn)\n",
    "df_revenue"
   ]
  },
  {
   "cell_type": "markdown",
   "id": "0f153f06-c0ed-4d06-b62c-d103105a1d78",
   "metadata": {},
   "source": [
    "#### **2.1 Monthly Revenue Trend**"
   ]
  },
  {
   "cell_type": "code",
   "execution_count": null,
   "id": "0d0ceed5-b7b8-4b91-86d0-bc3c8e98897f",
   "metadata": {},
   "outputs": [],
   "source": [
    "# Scale the total revenue by 100,000 for the y-axis\n",
    "df_revenue['scaled_revenue'] = df_revenue['monthly_revenue'] / 100000\n",
    "\n",
    "# Plotting the line chart\n",
    "plt.figure(figsize=(12, 6))\n",
    "ax = sns.lineplot(x=\"month\", y=\"scaled_revenue\", data=df_revenue, marker=\"o\", color=\"b\")\n",
    "ax.grid(False)\n",
    "ax.set_ylim(4, 12)  # Set y-axis limit to 12\n",
    "\n",
    "for spine in ax.spines.values():  \n",
    "    spine.set_color('black')\n",
    "    spine.set_linewidth(1.5)\n",
    "\n",
    "for x, y, full_value in zip(df_revenue['month'], df_revenue['scaled_revenue'], df_revenue['monthly_revenue']):\n",
    "    label = f'£ {full_value:,.0f}'\n",
    "    if y < 5.5: \n",
    "        ax.text(x, y - 0.15, label, ha='center', va='top', fontsize=10)\n",
    "    else:      \n",
    "        ax.text(x, y + 0.15, label, ha='center', va='bottom', fontsize=10)\n",
    "\n",
    "plt.xticks(rotation=45)\n",
    "plt.xlabel(\"Month\", fontsize=12)\n",
    "plt.ylabel(\"Monthly Revenue (£)\", fontsize=12)\n",
    "plt.title(\"Monthly Revenue Trend\", fontsize=18, fontweight='bold')\n",
    "plt.tight_layout()\n",
    "plt.show()"
   ]
  },
  {
   "cell_type": "markdown",
   "id": "a56121d3-0bc3-4922-8324-e4a40f3e2ba2",
   "metadata": {},
   "source": [
    "> The overall revenue trend fluctuates across the year, with noticeable peaks in **March, May, September, October, and November 2011**. The highest revenue was recorded in **November 2011**, indicating a seasonal boost likely due to holiday shopping."
   ]
  },
  {
   "cell_type": "markdown",
   "id": "05812dfb-137e-46ac-8b41-f5dd606f2686",
   "metadata": {},
   "source": [
    "#### **2.2 Month-over-Month Revenue Change**"
   ]
  },
  {
   "cell_type": "code",
   "execution_count": null,
   "id": "4c930d37-f59a-4201-83a0-df8f685f2fc1",
   "metadata": {},
   "outputs": [],
   "source": [
    "# Convert to numeric and remove first month\n",
    "df_revenue['revenue_change'] = pd.to_numeric(df_revenue['revenue_change'], errors='coerce')\n",
    "df_revenue['change_type'] = np.where(df_revenue['revenue_change'] >= 0, 'positive', 'negative')\n",
    "df_revenue_filtered = df_revenue.dropna(subset=['revenue_change']).copy()\n",
    "\n",
    "# Plotting the figure\n",
    "plt.figure(figsize=(12, 6))\n",
    "ax = sns.barplot(x='month', y='revenue_change', hue='change_type', data=df_revenue_filtered, palette={'positive': 'green', 'negative': 'red'}, \n",
    "                 dodge=False, edgecolor='black')\n",
    "ax.get_legend().remove()\n",
    "plt.axhline(0, color='black', linewidth=1)\n",
    "\n",
    "# Add value labels above/below the bars \n",
    "for pos, row in enumerate(df_revenue_filtered.itertuples()):\n",
    "    change = row.revenue_change\n",
    "    if change >= 0:\n",
    "        ax.text(pos,  change + 0.03 * df_revenue_filtered['revenue_change'].max(), f\"£ {change:,.0f}\", ha='center', va='bottom', fontsize=10)\n",
    "    else:\n",
    "        ax.text(pos, change - 0.02 * abs(df_revenue_filtered['revenue_change'].min()), f\"£{change:,.0f}\", ha='center', va='top', fontsize=10)\n",
    "\n",
    "ax.grid(False)\n",
    "for spine in ax.spines.values():\n",
    "    spine.set_edgecolor('black')\n",
    "    spine.set_linewidth(1.5)\n",
    "\n",
    "plt.title(\"Month-over-Month Revenue Change\", fontsize=18, fontweight='bold')\n",
    "plt.xlabel(\"Month\", fontsize=12)\n",
    "plt.ylabel(\"Revenue Change (£)\", fontsize=12)\n",
    "plt.xticks(rotation=45)\n",
    "plt.tight_layout()\n",
    "plt.show()"
   ]
  },
  {
   "cell_type": "markdown",
   "id": "c369a7a1-9688-4177-b64a-e2b8b1b219a2",
   "metadata": {},
   "source": [
    "> There were **sharp increases** in revenue during **March, May, September, and November**, while significant **declines** occurred in **February, April, and December**. The **largest drop** was observed in **December 2011**, potentially due to post-holiday slowdown."
   ]
  },
  {
   "cell_type": "markdown",
   "id": "92f2358d-195c-492c-aae5-b325be435446",
   "metadata": {},
   "source": [
    "#### **2.3 Month-over-Month Growth Rate**"
   ]
  },
  {
   "cell_type": "code",
   "execution_count": null,
   "id": "01a71518-e257-449d-b485-ff1c823752ab",
   "metadata": {},
   "outputs": [],
   "source": [
    "# Convert growth_rate to numeric & drop NaN (first month)\n",
    "df_revenue['growth_rate'] = pd.to_numeric(df_revenue['growth_rate'], errors='coerce')\n",
    "df_revenue_filtered = df_revenue.dropna(subset=['growth_rate']).copy()\n",
    "\n",
    "# Plotting the figure\n",
    "plt.figure(figsize=(12, 6))\n",
    "ax = sns.lineplot(x='month', y='growth_rate', data=df_revenue_filtered,   marker='o', markersize=8, color='purple')\n",
    "\n",
    "for x, y in zip(df_revenue_filtered['month'], df_revenue_filtered['growth_rate']):\n",
    "    label = f'{y:.1f}%'\n",
    "    if y >= 0:\n",
    "        offset = 0.05 * df_revenue_filtered['growth_rate'].max()  # Positive values - label above\n",
    "        va = 'bottom'\n",
    "    else:\n",
    "        offset = 0.05 * abs(df_revenue_filtered['growth_rate'].min())  # Negative values - label below\n",
    "        va = 'top'\n",
    "    ax.text(x, y + offset if y >= 0 else y - offset, label, ha='center', va=va, fontsize=10)\n",
    "\n",
    "ax.axhline(0, color='black', linewidth=1, linestyle='--')   # Draw zero line\n",
    "ax.grid(False)\n",
    "ax.set_ylim(-65, 60)\n",
    "for spine in ax.spines.values():\n",
    "    spine.set_color('black')\n",
    "    spine.set_linewidth(1.5)\n",
    "\n",
    "plt.title(\"Month-over-Month Revenue Growth Rate (%)\", fontsize=18, fontweight='bold')\n",
    "plt.xlabel(\"Month\", fontsize=12)\n",
    "plt.ylabel(\"Growth Rate (%)\", fontsize=12)\n",
    "plt.xticks(rotation=45)\n",
    "plt.tight_layout()\n",
    "plt.show()"
   ]
  },
  {
   "cell_type": "markdown",
   "id": "545b3642-d9ae-4d23-8b84-8244f316e928",
   "metadata": {},
   "source": [
    "> Revenue growth was highly **volatile** throughout the year. The **strongest positive growth** occurred in **May (45.07%)** and **September (47.72%)**, whereas **December saw the steepest decline**, with a growth rate of **-54.93%**."
   ]
  },
  {
   "cell_type": "markdown",
   "id": "2c41ba87-dec0-4c4d-b860-6a4be39ee149",
   "metadata": {},
   "source": [
    "### **3. Sales Activity by Time and Day**\n",
    "*What times of day and days of the week drive the most sales?*"
   ]
  },
  {
   "cell_type": "markdown",
   "id": "e736856d-fcf3-4c36-ac3a-1d24ffc9f304",
   "metadata": {},
   "source": [
    "#### **3.1 Total Purchases and Revenue by Hour of the Day**"
   ]
  },
  {
   "cell_type": "code",
   "execution_count": null,
   "id": "aeed24d7-1598-4497-af48-3515e2cd110d",
   "metadata": {},
   "outputs": [],
   "source": [
    "query = \"\"\"\n",
    "SELECT \n",
    "    strftime('%H', invoice_time) AS purchase_hour,  \n",
    "    COUNT(DISTINCT invoice_no) AS total_purchases,\n",
    "    ROUND(100.0 * COUNT(DISTINCT invoice_no) / SUM(COUNT(DISTINCT invoice_no)) OVER (), 1) AS purchase_percentage,\n",
    "    ROUND(SUM(total_sales), 2) AS total_revenue,\n",
    "    ROUND(100.0 * SUM(total_sales) / SUM(SUM(total_sales)) OVER (), 1) AS revenue_percentage\n",
    "FROM online_retail\n",
    "WHERE invoice_time IS NOT NULL\n",
    "GROUP BY purchase_hour\n",
    "ORDER BY purchase_hour;\n",
    "\"\"\"\n",
    "\n",
    "df_purchase_day = pd.read_sql(query, conn)\n",
    "df_purchase_day"
   ]
  },
  {
   "cell_type": "code",
   "execution_count": null,
   "id": "2157e055-0cfc-494c-98a3-3304200d0385",
   "metadata": {},
   "outputs": [],
   "source": [
    "# Prepare the data\n",
    "df = df_purchase_day.sort_values('purchase_hour')\n",
    "purchase_hours = df['purchase_hour']\n",
    "purchases = df['total_purchases']\n",
    "revenues = df['total_revenue'] / 1_000_000  # Convert to millions\n",
    "purchase_pct = df['purchase_percentage']\n",
    "revenue_pct = df['revenue_percentage']\n",
    "\n",
    "# Plotting the figure\n",
    "sns.set_style(\"white\")\n",
    "fig, axes = plt.subplots(nrows=1, ncols=2, figsize=(16, 6))\n",
    "bar_border = {'edgecolor': 'black', 'linewidth': 1.5}\n",
    "purchase_colors = sns.color_palette(\"Blues\", n_colors=len(purchase_hours))\n",
    "revenue_colors = sns.color_palette(\"Purples\", n_colors=len(purchase_hours))\n",
    "\n",
    "# --- Plot 1: Purchases ---\n",
    "bars1 = axes[0].bar(purchase_hours, purchases, color=purchase_colors, **bar_border)\n",
    "axes[0].set_title(\"Total Purchases by Hour\", fontsize=16)\n",
    "axes[0].set_xlabel(\"Hour of Day\", fontsize=12)\n",
    "axes[0].set_ylabel(\"Number of Purchases\", fontsize=12)\n",
    "axes[0].grid(False)\n",
    "\n",
    "for i, bar in enumerate(bars1):\n",
    "    height = bar.get_height()\n",
    "    axes[0].text(bar.get_x() + bar.get_width() / 2, height + max(purchases)*0.01, f\"{purchases[i]:,}\\n{purchase_pct[i]:.1f}%\", \n",
    "                 ha='center', va='bottom', fontsize=12, fontweight='semibold')\n",
    "max_purchase = max(purchases)\n",
    "axes[0].set_ylim(0, max_purchase * 1.10)\n",
    "\n",
    "# --- Plot 2: Revenue ---\n",
    "bars2 = axes[1].bar(purchase_hours, revenues, color=revenue_colors, **bar_border)\n",
    "axes[1].set_title(\"Total Revenue by Hour\", fontsize=16)\n",
    "axes[1].set_xlabel(\"Hour of Day\", fontsize=12)\n",
    "axes[1].set_ylabel(\"Revenue (£, Millions)\", fontsize=12)\n",
    "axes[1].grid(False)\n",
    "\n",
    "for i, bar in enumerate(bars2):\n",
    "    height = bar.get_height()\n",
    "    axes[1].text(bar.get_x() + bar.get_width() / 2, height + max(revenues)*0.01, f\"{revenues[i]:.2f}M\\n{revenue_pct[i]:.1f}%\",\n",
    "                 ha='center', va='bottom', fontsize=12, fontweight='semibold')\n",
    "max_revenue = max(revenues)\n",
    "axes[1].set_ylim(0, max_revenue * 1.10)\n",
    "\n",
    "# Final layout\n",
    "plt.suptitle(\"Purchases and Revenue Distribution by Hour of Day\", fontsize=18, y=1.02)\n",
    "plt.tight_layout()\n",
    "plt.show()"
   ]
  },
  {
   "cell_type": "markdown",
   "id": "60072e8d-2944-426b-bd4f-15b8d340aa32",
   "metadata": {},
   "source": [
    "> Sales activity peaks between **10 AM and 3 PM**, marking the busiest purchasing window of the day. This period contributes to around **79% of all transactions** and **77% of revenue**. Within this timeframe, the **peak hour is 12 PM**, generating the highest number of orders and revenue."
   ]
  },
  {
   "cell_type": "markdown",
   "id": "16dde321-b559-497e-be7e-a90eeb115482",
   "metadata": {},
   "source": [
    "#### **3.2 Total Purchases and Revenue by Day of the Week**"
   ]
  },
  {
   "cell_type": "code",
   "execution_count": null,
   "id": "543a1155-a020-45c0-9604-e3c770b191e6",
   "metadata": {},
   "outputs": [],
   "source": [
    "query = \"\"\"\n",
    "SELECT \n",
    "    CASE \n",
    "        WHEN CAST(STRFTIME('%w', invoice_date) AS INTEGER) = 0 THEN 'Sunday'\n",
    "        WHEN CAST(STRFTIME('%w', invoice_date) AS INTEGER) = 1 THEN 'Monday'\n",
    "        WHEN CAST(STRFTIME('%w', invoice_date) AS INTEGER) = 2 THEN 'Tuesday'\n",
    "        WHEN CAST(STRFTIME('%w', invoice_date) AS INTEGER) = 3 THEN 'Wednesday'\n",
    "        WHEN CAST(STRFTIME('%w', invoice_date) AS INTEGER) = 4 THEN 'Thursday'\n",
    "        WHEN CAST(STRFTIME('%w', invoice_date) AS INTEGER) = 5 THEN 'Friday'\n",
    "        WHEN CAST(STRFTIME('%w', invoice_date) AS INTEGER) = 6 THEN 'Saturday'\n",
    "    END AS purchase_day,\n",
    "    COUNT(DISTINCT invoice_no) AS total_purchases,\n",
    "    ROUND(100.0 * COUNT(DISTINCT invoice_no) / SUM(COUNT(DISTINCT invoice_no)) OVER (), 2) AS purchase_percentage,\n",
    "    ROUND(SUM(total_sales), 2) AS total_revenue,\n",
    "    ROUND(100.0 * SUM(total_sales) / SUM(SUM(total_sales)) OVER (), 2) AS revenue_percentage\n",
    "FROM online_retail\n",
    "GROUP BY purchase_day;\n",
    "\"\"\"\n",
    "df_purchase_week = pd.read_sql(query, conn)\n",
    "df_purchase_week"
   ]
  },
  {
   "cell_type": "code",
   "execution_count": null,
   "id": "ceafde77-b9cd-46f2-b9d7-0e74f3f5e653",
   "metadata": {},
   "outputs": [],
   "source": [
    "# Prepare the data\n",
    "df = df_purchase_week.copy()\n",
    "df = df.set_index('purchase_day').reindex(['Monday', 'Tuesday', 'Wednesday', 'Thursday', 'Friday', 'Saturday', 'Sunday']).reset_index()\n",
    "\n",
    "# Fill missing values with 0\n",
    "df[['total_purchases', 'purchase_percentage', 'total_revenue', 'revenue_percentage']] = \\\n",
    "    df[['total_purchases', 'purchase_percentage', 'total_revenue', 'revenue_percentage']].fillna(0)     # Fill missing values with 0\n",
    "\n",
    "# Convert to proper types to plot \n",
    "purchase_days = df['purchase_day']\n",
    "purchases = df['total_purchases'].astype(int)\n",
    "revenues = df['total_revenue'] / 1_000_000  # Revenue in £M\n",
    "purchase_pct = df['purchase_percentage']\n",
    "revenue_pct = df['revenue_percentage']\n",
    "\n",
    "# Plotting the figure\n",
    "sns.set_style(\"white\")\n",
    "fig, axes = plt.subplots(nrows=1, ncols=2, figsize=(16, 6))\n",
    "bar_border = {'edgecolor': 'black', 'linewidth': 1.5}\n",
    "purchase_colors = sns.color_palette(\"Blues\", n_colors=len(purchase_days))\n",
    "revenue_colors = sns.color_palette(\"Purples\", n_colors=len(purchase_days))\n",
    "\n",
    "# --- Plot 1: Purchases ---\n",
    "bars1 = axes[0].bar(purchase_days, purchases, color=purchase_colors, **bar_border)\n",
    "axes[0].set_title(\"Total Purchases by Day\", fontsize=16)\n",
    "axes[0].set_xlabel(\"Day of Week\", fontsize=12)\n",
    "axes[0].set_ylabel(\"Number of Purchases\", fontsize=12)\n",
    "axes[0].grid(False)\n",
    "\n",
    "for i, bar in enumerate(bars1):\n",
    "    height = bar.get_height()\n",
    "    axes[0].text(\n",
    "        bar.get_x() + bar.get_width() / 2, height + max(purchases)*0.01,\n",
    "        f\"{purchases[i]:,}\\n{purchase_pct[i]:.1f}%\",\n",
    "        ha='center', va='bottom', fontsize=12, fontweight='semibold')\n",
    "axes[0].set_ylim(0, max(purchases)*1.10)\n",
    "\n",
    "# --- Plot 2: Revenue ---\n",
    "bars2 = axes[1].bar(purchase_days, revenues, color=revenue_colors, **bar_border)\n",
    "axes[1].set_title(\"Total Revenue by Day\", fontsize=16)\n",
    "axes[1].set_xlabel(\"Day of Week\", fontsize=12)\n",
    "axes[1].set_ylabel(\"Revenue (£M)\", fontsize=12)\n",
    "axes[1].grid(False)\n",
    "\n",
    "for i, bar in enumerate(bars2):\n",
    "    height = bar.get_height()\n",
    "    axes[1].text(\n",
    "        bar.get_x() + bar.get_width() / 2, height + max(revenues)*0.01,\n",
    "        f\"{revenues[i]:.2f}M\\n{revenue_pct[i]:.1f}%\",\n",
    "        ha='center', va='bottom', fontsize=12, fontweight='semibold')\n",
    "axes[1].set_ylim(0, max(revenues)*1.10)\n",
    "\n",
    "# Final layout\n",
    "plt.suptitle(\"Purchases and Revenue Distribution by Day of Week\", fontsize=18, y=1.02)\n",
    "plt.tight_layout()\n",
    "plt.show()"
   ]
  },
  {
   "cell_type": "markdown",
   "id": "54b51252-00bf-44f6-b547-51622d8408b0",
   "metadata": {},
   "source": [
    "> When examining weekly patterns, **Monday to Friday** accounts for the majority of activity during these core hours, contributing **88% of total transactions** and **91% of revenue**. **Thursday** records the highest sales volume and revenue, followed by Wednesday and Tuesday."
   ]
  },
  {
   "cell_type": "markdown",
   "id": "67b8234c-4ae2-4428-ac27-4d30d653a1bf",
   "metadata": {},
   "source": [
    "#### **3.3 Purchases and Revenue by Day and Hour (Heatmap)**"
   ]
  },
  {
   "cell_type": "code",
   "execution_count": null,
   "id": "ff99397e-a163-4877-bebc-917a00901a25",
   "metadata": {},
   "outputs": [],
   "source": [
    "query = \"\"\"\n",
    "SELECT \n",
    "    CASE \n",
    "        WHEN CAST(STRFTIME('%w', invoice_date) AS INTEGER) = 0 THEN 'Sunday'\n",
    "        WHEN CAST(STRFTIME('%w', invoice_date) AS INTEGER) = 1 THEN 'Monday'\n",
    "        WHEN CAST(STRFTIME('%w', invoice_date) AS INTEGER) = 2 THEN 'Tuesday'\n",
    "        WHEN CAST(STRFTIME('%w', invoice_date) AS INTEGER) = 3 THEN 'Wednesday'\n",
    "        WHEN CAST(STRFTIME('%w', invoice_date) AS INTEGER) = 4 THEN 'Thursday'\n",
    "        WHEN CAST(STRFTIME('%w', invoice_date) AS INTEGER) = 5 THEN 'Friday'\n",
    "        WHEN CAST(STRFTIME('%w', invoice_date) AS INTEGER) = 6 THEN 'Saturday'\n",
    "    END AS purchase_day, \n",
    "    strftime('%H', invoice_time) AS purchase_hour, \n",
    "    COUNT(DISTINCT invoice_no) AS total_orders, \n",
    "    ROUND(SUM(total_sales), 2) AS total_revenue\n",
    "FROM online_retail \n",
    "GROUP BY purchase_day, purchase_hour \n",
    "ORDER BY purchase_day, purchase_hour;\n",
    "\"\"\"\n",
    "df_sales = pd.read_sql(query, conn)\n",
    "df_sales"
   ]
  },
  {
   "cell_type": "code",
   "execution_count": null,
   "id": "597f6b16-e3f7-43cf-b0a6-aec96a824f9b",
   "metadata": {},
   "outputs": [],
   "source": [
    "# Define correct day order for heatmap columns\n",
    "day_order = ['Monday', 'Tuesday', 'Wednesday', 'Thursday', 'Friday', 'Saturday', 'Sunday']\n",
    "\n",
    "# Create pivot table for purchases\n",
    "heatmap_purchases = df_sales.pivot_table(index='purchase_hour', columns='purchase_day', values='total_orders', fill_value=0)\n",
    "heatmap_purchases = heatmap_purchases.reindex(columns=day_order)\n",
    "heatmap_revenue = df_sales.pivot_table(index='purchase_hour', columns='purchase_day', values='total_revenue', fill_value=0)\n",
    "heatmap_revenue = heatmap_revenue.reindex(columns=day_order)\n",
    "\n",
    "# Plotting the figure\n",
    "plt.figure(figsize=(20, 10))\n",
    "\n",
    "# --- Heatmap 1: Purchases ---\n",
    "ax1 = plt.subplot(1, 2, 1)\n",
    "sns.heatmap(heatmap_purchases, cmap='Blues', linewidths=0.5, linecolor='gray', annot=True, fmt='g', cbar_kws={'label': 'Total Orders'}, \n",
    "            annot_kws={\"size\": 12}, ax=ax1)\n",
    "ax1.set_title('Purchases by Day and Hour', fontsize=16, fontweight='bold')\n",
    "ax1.set_xlabel('Day of Week', fontsize=12)\n",
    "ax1.set_ylabel('Hour of Day', fontsize=12)\n",
    "ax1.set_xticklabels(ax1.get_xticklabels(), rotation=45)\n",
    "ax1.set_yticklabels(ax1.get_yticklabels(), rotation=0)\n",
    "\n",
    "# --- Heatmap 2: Revenue ---\n",
    "ax2 = plt.subplot(1, 2, 2)\n",
    "sns.heatmap(heatmap_revenue, cmap='YlGnBu', linewidths=0.5, linecolor='gray', annot=True, fmt='.1f', cbar_kws={'label': 'Total Revenue (£)'},\n",
    "            annot_kws={\"size\": 12}, ax=ax2)\n",
    "ax2.set_title('Revenue by Day and Hour', fontsize=16, fontweight='bold')\n",
    "ax2.set_xlabel('Day of Week', fontsize=12)\n",
    "ax2.set_ylabel('Hour of Day', fontsize=12)\n",
    "ax2.set_xticklabels(ax2.get_xticklabels(), rotation=45)\n",
    "ax2.set_yticklabels(ax2.get_yticklabels(), rotation=0)\n",
    "\n",
    "plt.tight_layout()\n",
    "plt.show()"
   ]
  },
  {
   "cell_type": "markdown",
   "id": "78ff39f2-9d3b-4bf7-87c2-1e5ec029ca55",
   "metadata": {},
   "source": [
    "> Heatmaps confirm that **midday period (10 AM to 3 PM)** from **Monday to Friday** dominates revenue and orders. This reveals a clear midday, midweek shopping trend, presenting a prime opportunity to launch time-sensitive deals, targeted email campaigns, or flash sales to maximize conversions during peak buying behavior."
   ]
  },
  {
   "cell_type": "markdown",
   "id": "3a2f4ba9-df31-4d7e-8b6e-ff31ecc25fa4",
   "metadata": {},
   "source": [
    "### **4. Product Performance Analysis**\n",
    "*Which products are top performers in revenue and quantity?*"
   ]
  },
  {
   "cell_type": "code",
   "execution_count": null,
   "id": "4fc79196-27a4-4177-8dea-1e72c4e46555",
   "metadata": {},
   "outputs": [],
   "source": [
    "%%sql\n",
    "SELECT \n",
    "    DENSE_RANK() OVER (ORDER BY SUM(total_sales) DESC) AS rank,\n",
    "    stock_code, \n",
    "    description, \n",
    "    SUM(quantity) AS total_quantity_sold,\n",
    "    ROUND(SUM(total_sales), 1) AS total_revenue\n",
    "FROM online_retail\n",
    "GROUP BY description\n",
    "ORDER BY total_revenue DESC, total_quantity_sold DESC\n",
    "LIMIT 10;"
   ]
  },
  {
   "cell_type": "markdown",
   "id": "745b325c-6fe8-4aef-a5f7-d0be1897506a",
   "metadata": {},
   "source": [
    "#### **4.1 Top 10 Products: Revenue vs. Sales Volume**"
   ]
  },
  {
   "cell_type": "code",
   "execution_count": null,
   "id": "de69dcdb-720f-47c5-ac4f-34f3520266cf",
   "metadata": {},
   "outputs": [],
   "source": [
    "# Run the combined query\n",
    "query_combined = \"\"\"\n",
    "    SELECT \n",
    "        stock_code, \n",
    "        description, \n",
    "        SUM(quantity) AS total_quantity_sold,\n",
    "        ROUND(SUM(total_sales), 1) AS total_revenue\n",
    "    FROM online_retail\n",
    "    GROUP BY description\n",
    "\"\"\"\n",
    "df_products = pd.read_sql(query_combined, conn)\n",
    "\n",
    "# Top 10 by Total Revenue & Quantity Sold\n",
    "df_top_revenue = df_products.sort_values(by='total_revenue', ascending=False).head(10).reset_index(drop=True)\n",
    "df_top_volume = df_products.sort_values(by='total_quantity_sold', ascending=False).head(10).reset_index(drop=True)\n",
    "\n",
    "# Plotting the figure\n",
    "fig, axes = plt.subplots(nrows=2, ncols=1, figsize=(14, 12))\n",
    "\n",
    "# --- Fig 1: Top 10 Most Profitable Products by Revenue ---\n",
    "sns.barplot(x=\"total_revenue\", y=\"description\", data=df_top_revenue, hue=\"description\", palette=\"coolwarm\", dodge=False, legend=False, ax=axes[0])\n",
    "axes[0].grid(False)\n",
    "for spine in axes[0].spines.values():\n",
    "    spine.set_color('black')\n",
    "max_revenue = df_top_revenue['total_revenue'].max()\n",
    "axes[0].set_xlim(0, max_revenue * 1.15)\n",
    "for i, value in enumerate(df_top_revenue['total_revenue']):\n",
    "    axes[0].text(value + (max_revenue * 0.01), i, f'£{value:,.1f}', va='center', fontsize=11, clip_on=True)\n",
    "axes[0].set_xlabel(\"Total Revenue (£)\", fontsize=12)\n",
    "axes[0].set_ylabel(\"Product Description\", fontsize=12)\n",
    "axes[0].set_title(\"Top 10 Most Profitable Products by Sales\", fontsize=16, fontweight='bold')\n",
    "\n",
    "# --- Fig 2: Top 10 Products by Volume Sold ---\n",
    "sns.barplot(x=\"total_quantity_sold\", y=\"description\", data=df_top_volume, hue=\"description\", palette=\"mako\", dodge=False, legend=False, ax=axes[1])\n",
    "axes[1].grid(False)\n",
    "for spine in axes[1].spines.values():\n",
    "    spine.set_color('black')\n",
    "max_volume = df_top_volume['total_quantity_sold'].max()\n",
    "axes[1].set_xlim(0, max_volume * 1.15)\n",
    "for i, value in enumerate(df_top_volume['total_quantity_sold']):\n",
    "    axes[1].text(value + (max_volume * 0.01), i, f'{value:,}', va='center', fontsize=11, clip_on=True)\n",
    "axes[1].set_xlabel(\"Total Quantity Sold\", fontsize=12)\n",
    "axes[1].set_ylabel(\"Product Description\", fontsize=12)\n",
    "axes[1].set_title(\"Top 10 Products by Volume Sold\", fontsize=16, fontweight='bold')\n",
    "\n",
    "plt.tight_layout()\n",
    "plt.show()"
   ]
  },
  {
   "cell_type": "markdown",
   "id": "4f793a21-efb5-4d74-8026-e9c957fab57d",
   "metadata": {},
   "source": [
    "> The top-performing product by both revenue and quantity sold is **“PAPER CRAFT , LITTLE BIRDIE”**, generating over **£168K** in revenue with more than **80,000** units sold. Other top items include decorative and gifting products like **“REGENCY CAKESTAND 3 TIER”** and **“WHITE HANGING HEART T-LIGHT HOLDER”**. This contrast emphasizes that both **volume-driven** and **high-ticket** items are crucial for overall sales performance. Also, these products reflect strong customer interest in home decor and unique, giftable items.                        "
   ]
  },
  {
   "cell_type": "markdown",
   "id": "2c7ff831-09da-42ea-91b8-3bfbb4007ac3",
   "metadata": {},
   "source": [
    "#### **4.2 Top 3 Products per Country**"
   ]
  },
  {
   "cell_type": "code",
   "execution_count": null,
   "id": "5c6cc528-b5b1-40a2-9d9d-a8417ee69398",
   "metadata": {},
   "outputs": [],
   "source": [
    "%%sql\n",
    "WITH product_sales AS (\n",
    "    SELECT \n",
    "        country,\n",
    "        stock_code,\n",
    "        description,\n",
    "        SUM(quantity) AS total_quantity_sold,\n",
    "        DENSE_RANK() OVER (PARTITION BY country ORDER BY SUM(quantity) DESC) AS rank\n",
    "    FROM online_retail\n",
    "    WHERE customer_id IS NOT NULL\n",
    "    GROUP BY country, stock_code, description\n",
    ")\n",
    "SELECT rank, country, stock_code, description, total_quantity_sold \n",
    "FROM product_sales\n",
    "WHERE rank <= 3\n",
    "      AND country != 'Unknown'\n",
    "ORDER BY country, rank\n",
    "LIMIT 10;"
   ]
  },
  {
   "cell_type": "markdown",
   "id": "093d5b11-039f-497f-9497-012f2ce01809",
   "metadata": {},
   "source": [
    "> The most popular products vary significantly by country, reflecting regional preferences. For example:\n",
    "> - In **Australia**, creative and novelty items like the **MINI PAINT SET VINTAGE** and **RABBIT NIGHT LIGHT** are top choices.\n",
    "> - In **Austria**, kids' and gift items like **chalk sticks**, **mini jigsaws**, and **gift boxes** dominate.\n",
    "> - In **Bahrain**, **lip glosses** and **grow kits** are among the bestsellers, suggesting a preference for small, fun, and practical items."
   ]
  },
  {
   "cell_type": "markdown",
   "id": "3a3b98e4-7da6-4e73-8784-6ba3e191cc62",
   "metadata": {},
   "source": [
    "### **5. Customer Profitability by Country**\n",
    "*Which countries have the most valuable customers?*"
   ]
  },
  {
   "cell_type": "code",
   "execution_count": null,
   "id": "0076c2c7-87c4-4a28-8bf7-a1f1939f7cc2",
   "metadata": {},
   "outputs": [],
   "source": [
    "query = \"\"\"\n",
    "SELECT \n",
    "    country AS \"Country\",\n",
    "    COUNT(DISTINCT invoice_no) AS \"Total Transactions\",\n",
    "    ROUND(100.0 * COUNT(DISTINCT invoice_no) / SUM(COUNT(DISTINCT invoice_no)) OVER (), 2) AS \"Txn % of Total\",\n",
    "    COUNT(DISTINCT customer_id) AS \"Total Customers\",\n",
    "    ROUND(100.0 * COUNT(DISTINCT customer_id) / SUM(COUNT(DISTINCT customer_id)) OVER (), 2) AS \"Customer % of Total\",\n",
    "    SUM(quantity) AS \"Total Quantity Sold\",\n",
    "    ROUND(SUM(total_sales), 2) AS \"Total Revenue\",\n",
    "    ROUND(100.0 * SUM(total_sales) / SUM(SUM(total_sales)) OVER (), 2) AS \"Revenue % of Total\",\n",
    "    ROUND(SUM(total_sales) * 1.0 / COUNT(DISTINCT invoice_no), 2) AS \"Average Order Value\",\n",
    "    ROUND(SUM(total_sales) * 1.0 / COUNT(DISTINCT customer_id), 2) AS \"Revenue Per Customer\",\n",
    "    ROUND(SUM(quantity) * 1.0 / COUNT(DISTINCT invoice_no), 2) AS \"Avg Quantity Per Order\"\n",
    "FROM online_retail\n",
    "WHERE country != 'Unknown'\n",
    "GROUP BY country\n",
    "ORDER BY \"Total Revenue\" DESC;\n",
    "\"\"\"\n",
    "\n",
    "df_country = pd.read_sql(query, conn)\n",
    "df_country"
   ]
  },
  {
   "cell_type": "markdown",
   "id": "20443d23-f8fe-471c-a84b-b113bedeeba2",
   "metadata": {},
   "source": [
    "> Dominance of UK Market:\n",
    "> - The **United Kingdom** dominates the dataset with **3,916 customers** (**90% of all customers**), generating **£7.24 million** in revenue—**82% of total revenue and **90% of all transactions**. Despite the volume, the **average order value** (£437) and **revenue per customer** (£1,850) are **modest** compared to some international markets. This confirms that the business is **heavily concentrated in the domestic market**, making the UK the primary driver of business performance.\n",
    "\n",
    "> High-Value International Markets:\n",
    "> - **Netherlands**, **Ireland**, and **Australia** stand out with **xceptional revenue per customer (£15K–£85K)**, suggesting **high-value bulk orders** despite **minimal customer bases**.\n",
    "> - Countries like **Germany**, **France** and **Spain** show a healthy mix of order volume and value, with revenue per customer ranging between **£1,800 and £2,100**, making them strong mid-tier performers.\n",
    "> - Netherlands, Ireland, Germany & France collectively contribute 10.6% of revenue (Netherlands alone ranks 2nd in revenue despite 0.5% of transactions).\n",
    "> - **Japan**, **Switzerland**, **Sweden** and **Lebanon** also have **fewer customers**, but very **high AOVs and revenue per customer**, suggesting **premium purchase behavior**.<br>\n",
    "\n",
    "> Average order quantities vary dramatically between countries :\n",
    "> - Netherlands: 2,153 items/order (Highest volume)\n",
    "> - UK: 255 items/order (Volume-driven)\n",
    "> - Most countries: 200-600 items/order\n",
    "\n",
    "> Long Tail of Smaller Markets    \n",
    "> - 30+ countries each contribute <1% of revenue with low transaction volume. Several of these may represent **growth opportunities** for potential market expansion (e.g., Switzerland with £1,116 AOV) through strategic targeting or localized campaigns."
   ]
  },
  {
   "cell_type": "markdown",
   "id": "90b61543-0a30-4be7-ae12-e97d56334502",
   "metadata": {},
   "source": [
    "#### **5.1 Global Sales Distribution by Country**"
   ]
  },
  {
   "cell_type": "code",
   "execution_count": null,
   "id": "d2defed4-afd7-4036-8e68-10b7b21f2a17",
   "metadata": {},
   "outputs": [],
   "source": [
    "# Creating Log Total Revenue column\n",
    "df_country['Log Total Revenue'] = np.log(df_country['Total Revenue'])\n",
    "\n",
    "# Trace 1: Linear Scale Choropleth\n",
    "linear_trace = go.Choropleth(locations=df_country['Country'], locationmode='country names', z=df_country['Total Revenue'], colorscale='Reds', colorbar_title='Total Revenue (£)',\n",
    "    hovertemplate=(\n",
    "        '<b>%{location}</b><br><br>' +\n",
    "        'Total Revenue: £%{z:,.2f}<br>' +\n",
    "        'Total Customers: %{customdata[0]:,}<br>' +\n",
    "        'Total Orders: %{customdata[1]:,}<br>' +\n",
    "        'Total Quantity Sold: %{customdata[2]:,}<br>' +\n",
    "        'Average Order Value (AOV): £%{customdata[3]:,.2f}<br>' +\n",
    "        'Revenue per Customer: £%{customdata[4]:,.2f}<extra></extra>'),\n",
    "    customdata=df_country[['Total Customers', 'Total Orders', 'Total Quantity Sold', 'Average Order Value', 'Revenue Per Customer']])\n",
    "\n",
    "# Trace 2: Log Scale Choropleth\n",
    "log_trace = go.Choropleth(locations=df_country['Country'], locationmode='country names', z=df_country['Log Total Revenue'], colorscale='Reds', colorbar_title='Log Total Revenue',\n",
    "    hovertemplate=(\n",
    "        '<b>%{location}</b><br><br>' +\n",
    "        'Log Total Revenue: %{z:.2f}<br>' +\n",
    "        'Total Revenue: £%{customdata[0]:,.2f}<br>' +\n",
    "        'Total Customers: %{customdata[1]:,}<br>' +\n",
    "        'Total Orders: %{customdata[2]:,}<br>' +\n",
    "        'Total Quantity Sold: %{customdata[3]:,}<br>' +\n",
    "        'Average Order Value (AOV): £%{customdata[4]:,.2f}<br>' +\n",
    "        'Revenue per Customer: £%{customdata[5]:,.2f}<extra></extra>'),\n",
    "    customdata=df_country[['Total Revenue', 'Total Customers', 'Total Orders', 'Total Quantity Sold', 'Average Order Value', 'Revenue Per Customer']])\n",
    "\n",
    "# Create the figure with both traces\n",
    "fig = go.Figure(data=[linear_trace, log_trace])\n",
    "\n",
    "# Initial visibility (Linear hidden, Log visible)\n",
    "fig.data[0].visible = False   # Linear\n",
    "fig.data[1].visible = True    # Log\n",
    "\n",
    "# Dropdown \n",
    "fig.update_layout(\n",
    "    updatemenus=[\n",
    "    dict(\n",
    "        active=1,  # Default to log scale\n",
    "        buttons=list([\n",
    "            dict(label=\"<b>Linear Scale</b>\", method=\"update\", args=[{\"visible\": [True, False]},\n",
    "                {\"title\": \"Global Sales Distribution by Country\",\n",
    "                 \"coloraxis_colorbar\": {\"title\": \"Total Revenue (£)\"}}]),\n",
    "            dict(label=\"<b>Log Scale</b>\", method=\"update\", args=[{\"visible\": [False, True]},\n",
    "                {\"title\": \"Global Sales Distribution by Country\",\n",
    "                 \"coloraxis_colorbar\": {\"title\": \"Total Revenue (Log)\"}}])\n",
    "        ]),\n",
    "            direction=\"down\", showactive=True, x=1, xanchor=\"right\", y=1.15, yanchor=\"top\",\n",
    "            bgcolor='white', bordercolor='black', borderwidth=2, font=dict(family=\"Arial\", size=14, color='black'),\n",
    "            pad={\"r\": 10, \"t\": 10, \"l\": 10, \"b\": 10})])\n",
    "\n",
    "# General layout settings\n",
    "fig.update_layout(title=\"Global Sales Distribution by Country\",\n",
    "                  title_font=dict(size=22),\n",
    "                  geo=dict(showframe=False, showcoastlines=True, projection_type='natural earth'),\n",
    "                  width=1100, height=600, margin=dict(l=0, r=0, t=50, b=0))\n",
    "fig.show()"
   ]
  },
  {
   "cell_type": "markdown",
   "id": "6f134b25-2dd4-4af6-9cd8-effdcf2baa9d",
   "metadata": {},
   "source": [
    "> This interactive map visualizes the geographic distribution of total revenue across countries. The linear scale map highlights top-revenue-generating countries, while the log scale version provides a more balanced view by minimizing the visual dominance of outliers like the United Kingdom. Key performance metrics such as total customers, orders, quantity sold, AOV, and revenue per customer are embedded in the visualization to support regional performance comparisons and uncover hidden opportunities in emerging markets."
   ]
  },
  {
   "cell_type": "markdown",
   "id": "9eb27217-d4ae-4d3d-b2f7-c3314586374d",
   "metadata": {},
   "source": [
    "#### **5.2 High-Value Customer Segments by Country (*Excluding United Kingdom*)**"
   ]
  },
  {
   "cell_type": "code",
   "execution_count": null,
   "id": "27026fb7-73ef-4a31-8f16-baa8b7f3f6b4",
   "metadata": {},
   "outputs": [],
   "source": [
    "query = \"\"\"\n",
    "    SELECT \n",
    "        country AS 'Country', \n",
    "        COUNT(DISTINCT customer_id) AS unique_customers, \n",
    "        ROUND(SUM(total_sales), 2) AS total_revenue, \n",
    "        ROUND(SUM(total_sales) / COUNT(DISTINCT customer_id), 2) AS revenue_per_customer\n",
    "    FROM online_retail\n",
    "    WHERE country != 'Unknown' AND country != 'United Kingdom'\n",
    "    GROUP BY country\n",
    "    ORDER BY total_revenue DESC;\n",
    "\"\"\"\n",
    "df_country_profitability = pd.read_sql(query, conn)\n",
    "df_country_profitability"
   ]
  },
  {
   "cell_type": "code",
   "execution_count": null,
   "id": "493f90ad-7139-483a-86ae-f94634ed3da9",
   "metadata": {},
   "outputs": [],
   "source": [
    "# Creating the scatter plot\n",
    "fig = px.scatter(df_country_profitability, x='unique_customers', y='total_revenue', size='total_revenue', color='Country', \n",
    "                 hover_name='country', size_max=60, custom_data=['revenue_per_customer'], \n",
    "                 labels={'unique_customers': 'Unique Customers', 'revenue_per_customer': 'Revenue per Customer (£)', \n",
    "                         'total_revenue': 'Total Revenue (£)'})\n",
    "fig.update_traces(marker=dict( line=dict(width=2, color='black')),\n",
    "    hovertemplate=(\"<b>%{hovertext}</b><br>\" +   \"Unique Customers: %{x:,}<br>\" +  \"Total Revenue: £%{y:,.2f}<br>\" + \n",
    "                   \"Revenue per Customer: £%{customdata[0]:,.2f}<extra></extra>\"))\n",
    "\n",
    "fig.update_layout(title={'text': 'Customer Profitability by Country', 'y': 0.95, 'x': 0.5, 'xanchor': 'center', 'yanchor': 'top', \n",
    "                         'font': dict(size=20, family='Arial', color='black')}, height=600, width=1000, plot_bgcolor='white', paper_bgcolor='white',\n",
    "                  xaxis=dict(title='Unique Customers', showline=True, linecolor='black', showgrid=False),\n",
    "                  yaxis=dict(title='Total Revenue (£)', showline=True, linecolor='black', showgrid=False))\n",
    "fig.show()"
   ]
  },
  {
   "cell_type": "markdown",
   "id": "1f1bfaaf-543b-467f-a918-7778c9b97e8d",
   "metadata": {},
   "source": [
    "> This scatter plot analyzes the relationship between unique customers and total revenue across countries (*excluding the United Kingdom*). Each bubble’s size represents total revenue, while hover details reveal revenue per customer—emphasizing markets where smaller customer bases generate disproportionately high revenue.  \n",
    "> By comparing revenue against customer count, the visualization identifies **high-value international markets** that could benefit from targeted retention or expansion strategies, even with limited scale.   "
   ]
  },
  {
   "cell_type": "markdown",
   "id": "5e1d1a07-c531-42d0-8b63-b6a0732b8765",
   "metadata": {},
   "source": [
    "### **6. Customer Retention & Churn**\n",
    "*How well do we retain customers over time?*"
   ]
  },
  {
   "cell_type": "markdown",
   "id": "a46e4169-de74-4455-b090-45f9ff3ed761",
   "metadata": {},
   "source": [
    "#### **6.1 6-Month Retention Rate & Churn Rate**\n",
    "- *What percentage of customers who purchased before June 2011 returned after?*\n",
    "- *How many customers have churned?*"
   ]
  },
  {
   "cell_type": "code",
   "execution_count": null,
   "id": "7c6f9299-fb65-4272-b540-68f9ee47be1a",
   "metadata": {},
   "outputs": [],
   "source": [
    "%%sql\n",
    "WITH\n",
    "customers_before_june AS (\n",
    "    SELECT DISTINCT customer_id\n",
    "    FROM online_retail\n",
    "    WHERE invoice_date < '2011-06-01'\n",
    "      AND customer_id IS NOT NULL\n",
    "),\n",
    "customers_after_june AS (\n",
    "    SELECT DISTINCT customer_id\n",
    "    FROM online_retail\n",
    "    WHERE invoice_date >= '2011-06-01'\n",
    "      AND customer_id IS NOT NULL\n",
    "),\n",
    "retained AS (                     -- Retained customers (present in both periods)\n",
    "    SELECT customer_id\n",
    "    FROM customers_before_june\n",
    "    WHERE customer_id IN (SELECT customer_id FROM customers_after_june)\n",
    "),\n",
    "churned AS (                      -- Churned customers (only before June, not after)\n",
    "    SELECT customer_id\n",
    "    FROM customers_before_june\n",
    "    WHERE customer_id NOT IN (SELECT customer_id FROM customers_after_june)\n",
    ")\n",
    "SELECT\n",
    "    (SELECT COUNT(*) FROM retained) AS retained_customers,\n",
    "    ROUND((SELECT COUNT(*) * 100.0 FROM retained) / (SELECT COUNT(*) FROM customers_before_june), 1) AS retention_rate,\n",
    "    (SELECT COUNT(*) FROM churned) AS churned_customers,\n",
    "    ROUND((SELECT COUNT(*) * 100.0 FROM churned) / (SELECT COUNT(*) FROM customers_before_june), 1) AS churn_rate;"
   ]
  },
  {
   "cell_type": "markdown",
   "id": "66551ea1-f867-416b-9f18-b6f45458bf8e",
   "metadata": {},
   "source": [
    "> Out of all customers who made purchases before **June 2011**, around **70.8% were retained**, while **29.2% churned**, meaning they did not return after that period. This relatively high retention rate suggests strong customer loyalty, but nearly a third of the customer base was lost, signaling an opportunity for improved engagement strategy."
   ]
  },
  {
   "cell_type": "markdown",
   "id": "dae22161-b327-445c-9377-7fb968bdf037",
   "metadata": {},
   "source": [
    "#### **6.2 Monthly Retained vs Churned Customers**"
   ]
  },
  {
   "cell_type": "code",
   "execution_count": null,
   "id": "38f7585b-146a-4974-b24f-eff310dddc6f",
   "metadata": {},
   "outputs": [],
   "source": [
    "query = \"\"\"\n",
    "WITH customer_months AS (\n",
    "    SELECT DISTINCT\n",
    "        customer_id,\n",
    "        strftime('%Y-%m', invoice_date) AS month\n",
    "    FROM online_retail\n",
    "),\n",
    "this_month_customers AS (\n",
    "    SELECT\n",
    "        customer_id,\n",
    "        month AS this_month\n",
    "    FROM customer_months\n",
    "),\n",
    "next_month_customers AS (\n",
    "    SELECT\n",
    "        customer_id,\n",
    "        month AS next_month\n",
    "    FROM customer_months\n",
    "),\n",
    "customer_retention AS (\n",
    "    SELECT\n",
    "        tmc.customer_id,\n",
    "        tmc.this_month,\n",
    "        CASE\n",
    "            WHEN nmc.next_month IS NOT NULL THEN 'Retained Customer'\n",
    "            ELSE 'Churned Customer'\n",
    "        END AS customer_status\n",
    "    FROM this_month_customers tmc\n",
    "    LEFT JOIN next_month_customers nmc\n",
    "        ON tmc.customer_id = nmc.customer_id\n",
    "        AND nmc.next_month = strftime('%Y-%m', date(tmc.this_month || '-01', '+1 month'))\n",
    "),\n",
    "pivoted AS (\n",
    "    SELECT\n",
    "        this_month AS month,\n",
    "        SUM(CASE WHEN customer_status = 'Retained Customer' THEN 1 ELSE 0 END) AS retained_customers,\n",
    "        SUM(CASE WHEN customer_status = 'Churned Customer' THEN 1 ELSE 0 END) AS churned_customers\n",
    "    FROM customer_retention\n",
    "    WHERE this_month != IFNULL((SELECT MAX(month) FROM customer_months), '')\n",
    "    GROUP BY this_month\n",
    ")\n",
    "SELECT \n",
    "    month,\n",
    "    (retained_customers + churned_customers) AS total_customers,\n",
    "    retained_customers,\n",
    "    churned_customers\n",
    "FROM pivoted\n",
    "ORDER BY month;\n",
    "\"\"\"\n",
    "\n",
    "df_retention = pd.read_sql(query, conn)\n",
    "df_retention"
   ]
  },
  {
   "cell_type": "code",
   "execution_count": null,
   "id": "147b6b86-7ad6-46a0-a585-2064ca460dda",
   "metadata": {},
   "outputs": [],
   "source": [
    "# Prepare the data\n",
    "df_retention.rename(columns={'retained_customers': 'Retained Customers', 'churned_customers': 'Churned Customers'}, inplace=True)\n",
    "df_plot = df_retention.set_index('month')[['Retained Customers', 'Churned Customers']]\n",
    "\n",
    "# Plotting grouped bar chart\n",
    "fig, ax = plt.subplots(figsize=(12, 6))\n",
    "df_plot.plot(kind='bar', stacked=False, ax=ax, color=['#2b8cbe', '#f03b20'])\n",
    "ax.set_title('Monthly Customer Retention & Churn', fontsize=16, fontweight='bold')\n",
    "ax.set_xlabel('Month', fontsize=12)\n",
    "ax.set_ylabel('Number of Customers', fontsize=12)\n",
    "plt.xticks(rotation=45)\n",
    "ax.legend(title='Customer Status')\n",
    "ax.grid(False)\n",
    "\n",
    "for container in ax.containers:\n",
    "    ax.bar_label(container, fmt='%.0f', label_type='edge', fontsize=9, padding=3)\n",
    "\n",
    "plt.tight_layout()\n",
    "plt.show()"
   ]
  },
  {
   "cell_type": "markdown",
   "id": "e78aee51-a9ff-47a6-9bb2-16ebeb67e4e2",
   "metadata": {},
   "source": [
    "> The retention trend fluctuates month-to-month, with the **highest customer activity** in **October and November 2011**. However, **churn numbers also increase sharply** in these months, especially in **November**, where over **1,200 customers failed to return** the following month. This suggests a spike in one-time purchases, possibly driven by seasonal or promotional sales, highlighting the importance of post-purchase follow-up to retain these customers."
   ]
  },
  {
   "cell_type": "markdown",
   "id": "dbc013d4-3740-4ffa-919e-d69c258a6915",
   "metadata": {},
   "source": [
    "### **7. Customer Purchase Frequency Analysis**\n",
    "*What percentage of customers made more than one purchase, and how many customers purchased only once and never returned?*"
   ]
  },
  {
   "cell_type": "code",
   "execution_count": null,
   "id": "69ad6308-d1cc-4813-a612-f3be5f5d1cc5",
   "metadata": {},
   "outputs": [],
   "source": [
    "%%sql\n",
    "WITH customer_orders AS (\n",
    "    SELECT customer_id, COUNT(DISTINCT invoice_no) AS order_count\n",
    "    FROM online_retail\n",
    "    GROUP BY customer_id\n",
    "),\n",
    "unique_customers AS (\n",
    "    SELECT COUNT(DISTINCT customer_id) AS total_customers\n",
    "    FROM online_retail\n",
    "),\n",
    "repeat_customers AS (\n",
    "    SELECT COUNT(*) AS repeat_customer_count\n",
    "    FROM customer_orders\n",
    "    WHERE order_count > 1\n",
    "),\n",
    "one_time_buyers AS (\n",
    "    SELECT COUNT(*) AS one_time_buyers_count\n",
    "    FROM customer_orders\n",
    "    WHERE order_count = 1\n",
    ")\n",
    "SELECT\n",
    "    total_customers,\n",
    "    repeat_customer_count,\n",
    "    ROUND((repeat_customer_count * 1.0 / total_customers) * 100, 1) AS repeat_customer_rate,\n",
    "    one_time_buyers_count,\n",
    "    ROUND((one_time_buyers_count * 1.0 / total_customers) * 100, 1) AS one_time_buyers_percent\n",
    "FROM unique_customers\n",
    "JOIN repeat_customers\n",
    "JOIN one_time_buyers;"
   ]
  },
  {
   "cell_type": "markdown",
   "id": "0a5902e2-aa38-4590-82ef-af89880326ae",
   "metadata": {},
   "source": [
    "> Out of **4,334 total customers**, approximately **65.3%** made **more than one purchase**, classifying them as **repeat customers**. The remaining **34.7% (1,505 customers)** were **one-time buyers** who never returned after their initial purchase. While a strong majority demonstrates customer loyalty, the relatively high share of one-time buyers points to an opportunity for improving post-purchase engagement and implementing retention campaigns."
   ]
  },
  {
   "cell_type": "markdown",
   "id": "2f1aafb0-88d9-4dab-9b14-aed1a4b0e245",
   "metadata": {},
   "source": [
    "### **8. Customer Acquisition Trends**\n",
    "*How many new vs existing customers are active each month?*"
   ]
  },
  {
   "cell_type": "code",
   "execution_count": null,
   "id": "ca0b3bc8-e234-4ee4-aab6-e0658a7d9027",
   "metadata": {},
   "outputs": [],
   "source": [
    "query = \"\"\"\n",
    "WITH first_purchase_month AS (\n",
    "    SELECT \n",
    "        customer_id,\n",
    "        MIN(strftime('%Y-%m', invoice_date)) AS first_purchase_month\n",
    "    FROM online_retail\n",
    "    GROUP BY customer_id\n",
    "),\n",
    "monthly_orders AS (\n",
    "    SELECT\n",
    "        customer_id,\n",
    "        strftime('%Y-%m', invoice_date) AS order_month\n",
    "    FROM online_retail\n",
    "),\n",
    "\n",
    "customer_classification AS (\n",
    "    SELECT\n",
    "        mo.order_month,\n",
    "        CASE\n",
    "            WHEN mo.order_month = fpm.first_purchase_month THEN 'New Customer'\n",
    "            ELSE 'Existing Customer'\n",
    "        END AS customer_type,\n",
    "        mo.customer_id\n",
    "    FROM monthly_orders mo\n",
    "    JOIN first_purchase_month fpm ON mo.customer_id = fpm.customer_id\n",
    ")\n",
    "SELECT\n",
    "    order_month,\n",
    "    COUNT(DISTINCT CASE WHEN customer_type = 'New Customer' THEN customer_id END) AS new_customers,\n",
    "    COUNT(DISTINCT CASE WHEN customer_type = 'Existing Customer' THEN customer_id END) AS existing_customers\n",
    "FROM customer_classification\n",
    "GROUP BY order_month\n",
    "ORDER BY order_month;\n",
    "\"\"\"\n",
    "\n",
    "df_acquisition = pd.read_sql(query, conn)\n",
    "df_acquisition"
   ]
  },
  {
   "cell_type": "code",
   "execution_count": null,
   "id": "2e6a9a22-baf6-4a6f-918c-14593d1bfbaf",
   "metadata": {},
   "outputs": [],
   "source": [
    "# Set index to order_month for plotting\n",
    "df_plot = df_acquisition.set_index('order_month')\n",
    "df_plot.columns = ['New Customers', 'Existing Customers']\n",
    "\n",
    "# Plotting the figure\n",
    "fig, ax = plt.subplots(figsize=(12, 5))\n",
    "df_plot.plot(kind='bar', stacked=False, ax=ax, color=['#2b8cbe', '#a6bddb'])\n",
    "ax.set_title('Monthly Customer Acquisition: New vs Existing Customers', fontsize=16, fontweight='bold')\n",
    "ax.set_xlabel('Order Month', fontsize=12)\n",
    "ax.set_ylabel('Number of Customers', fontsize=12)\n",
    "plt.xticks(rotation=45)\n",
    "ax.legend(title='Customer Type')\n",
    "ax.grid(False)\n",
    "\n",
    "for container in ax.containers:\n",
    "    ax.bar_label(container, fmt='%.0f', label_type='edge', fontsize=9, padding=3)\n",
    "\n",
    "plt.tight_layout()\n",
    "plt.show()"
   ]
  },
  {
   "cell_type": "markdown",
   "id": "2d6b0cb7-8ef5-44c1-8d90-f22304b63bdb",
   "metadata": {},
   "source": [
    "> The figure shows that December 2010 had only new customers (since it’s the first month in the dataset). From January 2011 onward, the proportion of existing customers steadily increases, indicating strong customer retention over time.  \n",
    "Peak acquisition months include **March, September, and October 2011**, suggesting successful acquisition or seasonal campaigns. Notably, **November 2011** shows the **highest number of active existing customers**, reinforcing the impact of holiday-related promotions or edations."
   ]
  },
  {
   "cell_type": "markdown",
   "id": "3e5cb769-0f84-4681-b32d-33d1785c3188",
   "metadata": {},
   "source": [
    "<a id=\"section3\"></a>\n",
    "## <span style=\"color: #0D47A1;\">**RFM Analysis**</span>\n",
    "\n",
    "---\n",
    "| **RFM Component** | **What it Measures**            | **Why It Is Important**                                                                                           |\n",
    "|------------------|--------------------------------|----------------------------------------------------------------------------------------------------------------------|\n",
    "| **Recency (R)**   | Days since the last purchase    | Helps identify how recently a customer has interacted with the business, indicating their current level of engagement. |\n",
    "| **Frequency (F)** | Number of purchases              | Reveals how often a customer makes purchases, reflecting their loyalty and long-term relationship with the brand.       |\n",
    "| **Monetary (M)**  | Total money spent                | Shows how much revenue a customer generates, helping identify high-value and profitable customers.                      |\n",
    "\n",
    "---"
   ]
  },
  {
   "cell_type": "markdown",
   "id": "198e51fc-06eb-47b7-bcac-0bb174de9a0e",
   "metadata": {},
   "source": [
    "### 1. Calculating RFM Scores"
   ]
  },
  {
   "cell_type": "markdown",
   "id": "4bbad3e8-c130-4b4c-8355-3c4be55d93e3",
   "metadata": {},
   "source": [
    "#### Calculating Recency (R)\n",
    "We will identify each customer's most recent transaction and calculate the number of days since their last purchase. "
   ]
  },
  {
   "cell_type": "code",
   "execution_count": null,
   "id": "cb0c1d52-9896-47e7-a9af-2ba92578b132",
   "metadata": {},
   "outputs": [],
   "source": [
    "%%sql\n",
    "SELECT MAX(invoice_date) AS last_order_date\n",
    "FROM online_retail;"
   ]
  },
  {
   "cell_type": "markdown",
   "id": "aa1e2346-9e1d-4552-8c42-ede64383f7c3",
   "metadata": {},
   "source": [
    "> Using *'2011-12-09'* (the most recent date in the dataset) as the reference point, we will analyze transactions recorded between '2010-12-01' and '2011-12-09'."
   ]
  },
  {
   "cell_type": "code",
   "execution_count": null,
   "id": "ccfe32ad-e17f-4992-b189-1585470f8bf7",
   "metadata": {},
   "outputs": [],
   "source": [
    "%%sql\n",
    "SELECT customer_id,\n",
    "       MAX(invoice_date) AS last_purchase_date,\n",
    "       (julianday('2011-12-09') - julianday(MAX(invoice_date))) AS recency\n",
    "FROM online_retail\n",
    "GROUP BY customer_id\n",
    "LIMIT 10;"
   ]
  },
  {
   "cell_type": "markdown",
   "id": "84296460-2456-4487-807a-f07f13f79eff",
   "metadata": {},
   "source": [
    "#### Calculating Frequency (F)\n",
    "Counting how many unique transactions each customer made."
   ]
  },
  {
   "cell_type": "code",
   "execution_count": null,
   "id": "374f5545-4934-4ec6-8ddb-b356c39a6006",
   "metadata": {},
   "outputs": [],
   "source": [
    "%%sql\n",
    "SELECT customer_id,\n",
    "       COUNT(DISTINCT invoice_no) AS frequency\n",
    "FROM online_retail\n",
    "GROUP BY customer_id\n",
    "LIMIT 10;"
   ]
  },
  {
   "cell_type": "markdown",
   "id": "086c768c-2b77-4812-9ee1-5d6778db56f1",
   "metadata": {},
   "source": [
    "#### Calculating Monetary (M)\n",
    "Suming total spending per customer."
   ]
  },
  {
   "cell_type": "code",
   "execution_count": null,
   "id": "89d1755c-df03-47a8-826f-69a27326fe06",
   "metadata": {},
   "outputs": [],
   "source": [
    "%%sql\n",
    "SELECT customer_id,\n",
    "       ROUND(SUM(total_sales), 2) AS monetary\n",
    "FROM online_retail\n",
    "GROUP BY customer_id\n",
    "LIMIT 10;"
   ]
  },
  {
   "cell_type": "markdown",
   "id": "6515e6c1-c05e-4d5d-be2d-ff7a90238920",
   "metadata": {},
   "source": [
    "#### Calculating Average RFM Values"
   ]
  },
  {
   "cell_type": "code",
   "execution_count": null,
   "id": "fd0d07ac-e8c6-4b82-b2b5-ad07e70f7d94",
   "metadata": {},
   "outputs": [],
   "source": [
    "%%sql\n",
    "WITH rfm AS (\n",
    "    SELECT \n",
    "       o.customer_id,\n",
    "       (julianday('2011-12-09') - julianday(MAX(o.invoice_date))) AS recency,\n",
    "       COUNT(DISTINCT o.invoice_no) AS frequency,\n",
    "       ROUND(SUM(o.total_sales), 2) AS monetary\n",
    "    FROM online_retail o\n",
    "    GROUP BY o.customer_id\n",
    ")\n",
    "SELECT \n",
    "    ROUND(AVG(recency), 2) AS avg_recency,\n",
    "    ROUND(AVG(frequency), 2) AS avg_frequency,\n",
    "    ROUND(AVG(monetary), 2) AS avg_monetary\n",
    "FROM rfm;"
   ]
  },
  {
   "cell_type": "markdown",
   "id": "2e719d37-4657-419d-948b-a7f4af7470cd",
   "metadata": {},
   "source": [
    "> The average values across all customers are:\n",
    "> - **Recency**: 92.23 days → On average, customers haven't purchased in over 3 months.\n",
    "> - **Frequency**: 4.25 orders → Most customers have made around 4 purchases in the observed period.\n",
    "> - **Monetary**: £2,015.97 → On average, each customer has spent over £2,000, indicating a relatively high customer value."
   ]
  },
  {
   "cell_type": "markdown",
   "id": "090d35c2-2578-49b3-b9c7-8a0bf88b3af6",
   "metadata": {},
   "source": [
    "#### Assigning RFM Scores \n",
    "Each RFM metric (Recency, Frequency, Monetary) is scored on a scale of 1 to 5 based on its performance and value, with higher scores indicating better customer engagement and spending behavior."
   ]
  },
  {
   "cell_type": "code",
   "execution_count": null,
   "id": "0ea05522-3e99-4c6e-8773-ff7263ad0642",
   "metadata": {},
   "outputs": [],
   "source": [
    "%%sql\n",
    "CREATE VIEW rfm_analysis AS\n",
    "WITH rfm AS (\n",
    "    SELECT \n",
    "       o.customer_id,\n",
    "       (julianday('2011-12-09') - julianday(MAX(o.invoice_date))) AS recency,\n",
    "       COUNT(DISTINCT o.invoice_no) AS frequency,\n",
    "       ROUND(SUM(o.total_sales), 2) AS monetary\n",
    "    FROM online_retail o\n",
    "    GROUP BY o.customer_id\n",
    ")\n",
    "SELECT \n",
    "    customer_id,\n",
    "    recency,\n",
    "    frequency,\n",
    "    monetary,\n",
    "    -- R-Score => Lower recency = better => ORDER BY recency DESC\n",
    "    NTILE(5) OVER (ORDER BY recency DESC) AS r_score,\n",
    "    -- F-Score => Higher frequency = better => ORDER BY frequency ASC\n",
    "    NTILE(5) OVER (ORDER BY frequency) AS f_score,\n",
    "    -- M-Score => Higher spending = better => ORDER BY monetary ASC\n",
    "    NTILE(5) OVER (ORDER BY monetary) AS m_score\n",
    "FROM rfm;"
   ]
  },
  {
   "cell_type": "code",
   "execution_count": null,
   "id": "d55b8f20-b3d0-4adf-9f3d-9f54aa42dfa4",
   "metadata": {},
   "outputs": [],
   "source": [
    "%%sql\n",
    "SELECT * FROM rfm_analysis\n",
    "LIMIT 10;"
   ]
  },
  {
   "cell_type": "markdown",
   "id": "3153b16b-e773-42e4-ab53-f778969d2a8f",
   "metadata": {},
   "source": [
    "### Distribution of Recency, Frequency, and Monetary Metrics Across Customers"
   ]
  },
  {
   "cell_type": "code",
   "execution_count": null,
   "id": "9acf9da3-2190-4ee4-a36f-7c9a78e8e149",
   "metadata": {},
   "outputs": [],
   "source": [
    "query = \"\"\"\n",
    "SELECT customer_id, recency, frequency, monetary\n",
    "FROM rfm_analysis;\n",
    "\"\"\"\n",
    "df_rfm = pd.read_sql(query, conn)\n",
    "\n",
    "# Plotting the histograms\n",
    "fig, axes = plt.subplots(1, 3, figsize=(18, 5))\n",
    "\n",
    "sns.histplot(df_rfm['recency'], bins=30, kde=True, ax=axes[0], color=\"blue\")\n",
    "axes[0].set_title(\"Recency Distribution\")\n",
    "axes[0].set_xlabel(\"Days Since Last Purchase\")\n",
    "\n",
    "sns.histplot(df_rfm['frequency'], bins=30, kde=True, ax=axes[1], color=\"orange\")\n",
    "axes[1].set_title(\"Frequency Distribution\")\n",
    "axes[1].set_xlabel(\"Number of Purchases\")\n",
    "\n",
    "sns.histplot(df_rfm['monetary'], bins=30, kde=True, ax=axes[2], color=\"green\")\n",
    "axes[2].set_title(\"Monetary Distribution\")\n",
    "axes[2].set_xlabel(\"Total Spend (£)\")\n",
    "\n",
    "plt.tight_layout()\n",
    "plt.show()"
   ]
  },
  {
   "cell_type": "markdown",
   "id": "8cf9f276-68e0-4f87-9fc2-4d6353aef15c",
   "metadata": {},
   "source": [
    "> The histograms display how customers are distributed across recency (days since last purchase), frequency (number of purchases), and monetary value (total spend in £). The histograms show:\n",
    "> - **Recency** is **heavily right-skewed**, with most customers not purchasing recently, suggesting potential inactivity or churn.\n",
    "> - **Frequency** shows that a majority of customers placed **fewer than 5 orders**, with a steep drop-off beyond that.\n",
    "> - **Monetary** has a **long-tailed distribution**, where most customers spend under £5,000, but a small elite group contributes significantly more, with some spending over £10,000.\n",
    "\n",
    "> These plots confirm a **Pareto pattern** — a small portion of customers drives the bulk of business value, highlighting the need for targeted retention and loyalty strategies."
   ]
  },
  {
   "cell_type": "markdown",
   "id": "8362e365-2d91-439d-ad30-9028872d6b56",
   "metadata": {},
   "source": [
    "### 2. Assigning Customer Segments"
   ]
  },
  {
   "cell_type": "markdown",
   "id": "ce586e87-50e2-4a52-9ded-ec327bf3244b",
   "metadata": {},
   "source": [
    "This table categorizes customers based on their recency (R), frequency (F), and monetary (M) scores, providing insights into their engagement levels and suggesting appropriate marketing actions.\n",
    "\n",
    "---\n",
    "| S. No | **Customer Segment**       | Description                                                                 | Marketing Action & Recommendations | **R Score** | **(F+M)/2 Score** |  \n",
    "|------|----------------------------|---------------------------------------------------------------------------|----------------------------------|------------|-----------------|  \n",
    "| 1    | <span style=\"color:#339AF0;\">**Champions**</span>             | Most loyal and valuable customers who frequently purchase and engage with your brand. | Introduce new and upcoming products and drops. Reward them and help them share updates. Provide priority access and loyalty perks. | 5          | 4 - 5        |  \n",
    "| 2    | <span style=\"color:#DA77F2;\">**Potential Loyalists**</span>   | Customers with growing interest and engagement, indicating potential loyalty. | Offer membership/loyalty programs, recommend other products, nurture with personalized offers and incentives. | 4 - 5      | 2 - 3        |  \n",
    "| 3    | <span style=\"color:#91A7FF;\">**Loyal Customers**</span>       | Regular customers who consistently engage with and purchase from your brand. | Upsell higher-value products, ask for reviews, maintain engagement with personalized communication and loyalty programs. | 3 - 4      | 4 - 5        |  \n",
    "| 4    | <span style=\"color:#0CA678;\">**New Customers**</span>      | First-time buyers who recently started engaging with your brand. | Provide onboarding support, give them early success, start building a relationship with welcome emails and special offers. | 5          | 1            |  \n",
    "| 5    | <span style=\"color:#38D9A9;\">**Promising**</span>             | New or occasional customers with good potential based on recent behavior. | Encourage further engagement with special offers, tailored content, or invitations to loyalty programs. Check on their need for replenishment. | 4          | 1            |  \n",
    "| 6    | <span style=\"color:#FFA8A8;\">**Needs Attention**</span>       | Customers with decent engagement but show early signs of decreasing interest or activity. | Make limited-time offers, recommend products based on past purchases, re-engage with personalized outreach. | 3          | 3            |  \n",
    "| 7    | <span style=\"color:#FAB005;\">**About to Sleep**</span>        | Customers who have purchased before but have shown declining engagement or inactivity. | Send personalized re-engagement campaigns, offer discounts or reminders about their previous activity. Introduce them to new products. | 3          | 1 - 2        |  \n",
    "| 8    | <span style=\"color:#E03131;\">**Can't Lose Them**</span>       | High-value customers with recent inactivity or signs of disengagement. | Provide VIP treatment, personalized outreach, exclusive offers, and reconnect with high-value incentives. | 1 - 2      | 5            |  \n",
    "| 9    | <span style=\"color:#F76707;\">**At Risk**</span>               | Customers with reduced frequency of purchase or engagement, indicating potential churn. | Send personalized emails to reconnect, offer renewals, provide helpful resources, and recommend popular products. | 1 - 2      | 3 - 4        |  \n",
    "| 10   | <span style=\"color:#757575;\">**Hibernating**</span>           | Customers who were once active but have not engaged in a significant period. | Offer other relevant products and special discounts. Recreate brand value and reactivate through targeted campaigns. | 1 - 2      | 1 - 2        |\n",
    "\n",
    "---"
   ]
  },
  {
   "cell_type": "code",
   "execution_count": null,
   "id": "72100f8d-a2cc-4a9a-aecc-c410b6e2e24e",
   "metadata": {},
   "outputs": [],
   "source": [
    "%%sql\n",
    "CREATE VIEW customer_segments AS\n",
    "SELECT customer_id,\n",
    "       ROUND((r_score + f_score + m_score) / 3.0, 1) AS avg_rfm,\n",
    "       (r_score * 100 + f_score * 10 + m_score) AS rfm_score,\n",
    "       CASE\n",
    "           WHEN r_score = 5 AND (f_score + m_score) / 2 BETWEEN 4 AND 5 THEN 'Champions'\n",
    "           WHEN r_score BETWEEN 3 AND 4 AND (f_score + m_score) / 2 BETWEEN 4 AND 5 THEN 'Loyal Customers'\n",
    "           WHEN r_score BETWEEN 4 AND 5 AND (f_score + m_score) / 2 BETWEEN 2 AND 3 THEN 'Potential Loyalists'\n",
    "           WHEN r_score = 5 AND (f_score + m_score) / 2 = 1 THEN 'New Customers'\n",
    "           WHEN r_score = 4 AND (f_score + m_score) / 2 = 1 THEN 'Promising'\n",
    "           WHEN r_score = 3 AND (f_score + m_score) / 2 = 3 THEN 'Needs Attention'\n",
    "           WHEN r_score = 3 AND (f_score + m_score) / 2 BETWEEN 1 AND 2 THEN 'About to Sleep'\n",
    "           WHEN r_score BETWEEN 1 AND 2 AND (f_score + m_score) / 2 = 5 THEN 'Can’t Lose Them'\n",
    "           WHEN r_score BETWEEN 1 AND 2 AND (f_score + m_score) / 2 BETWEEN 3 AND 4 THEN 'At Risk'\n",
    "           WHEN r_score BETWEEN 1 AND 2 AND (f_score + m_score) / 2 BETWEEN 1 AND 2 THEN 'Hibernating'\n",
    "           ELSE 'Others'\n",
    "       END AS customer_segment\n",
    "FROM (\n",
    "    SELECT\n",
    "        customer_id, r_score, f_score, m_score\n",
    "    FROM rfm_analysis\n",
    ") AS sub;"
   ]
  },
  {
   "cell_type": "code",
   "execution_count": null,
   "id": "d31c3b1b-9759-4de5-b68a-f224560088b1",
   "metadata": {},
   "outputs": [],
   "source": [
    "%%sql\n",
    "SELECT * FROM customer_segments   \n",
    "LIMIT 10;"
   ]
  },
  {
   "cell_type": "markdown",
   "id": "befb9a76-efd2-49aa-b35a-f380bd65e166",
   "metadata": {},
   "source": [
    "### Customer Segments vs. RFM Score Distribution"
   ]
  },
  {
   "cell_type": "code",
   "execution_count": null,
   "id": "bb27945f-099b-4337-8fd5-2ab65a5d543f",
   "metadata": {},
   "outputs": [],
   "source": [
    "query = \"SELECT customer_segment, rfm_score FROM customer_segments;\"\n",
    "df_rfm = pd.read_sql(query, conn)\n",
    "\n",
    "# Assigning colors to customer segments\n",
    "segment_colors = {\n",
    "    \"Champions\": \"#A5D8FF\",\n",
    "    \"Loyal Customers\": \"#CFE2FF\",\n",
    "    \"Potential Loyalists\": \"#D1B3FF\",  \n",
    "    \"Needs Attention\": \"#FFCAB1\",\n",
    "    \"About to Sleep\": \"#FFD699\",\n",
    "    \"Promising\": \"#A8E6CF\",  \n",
    "    \"New Customers\": \"#12ca93\",\n",
    "    \"At Risk\": \"#FF9F80\",\n",
    "    \"Can’t Lose Them\": \"#FF7F7F\",\n",
    "    \"Hibernating\": \"#E8E8E8\"}\n",
    "unique_segments = df_rfm['customer_segment'].unique()\n",
    "segment_palette = {seg: segment_colors.get(seg, '#D3D3D3') for seg in unique_segments}\n",
    "\n",
    "#Plotting the boxplot\n",
    "plt.figure(figsize=(12, 6))\n",
    "sns.boxplot(x=\"customer_segment\", y=\"rfm_score\", hue=\"customer_segment\", data=df_rfm, palette=segment_palette, legend=False)\n",
    "plt.xticks(rotation=45)\n",
    "plt.xlabel(\"Customer Segment\", fontsize=12)\n",
    "plt.ylabel(\"RFM Score\", fontsize=12)\n",
    "plt.title(\"RFM Score Distribution Across Customer Segments\", fontsize=14, fontweight='bold')\n",
    "plt.tight_layout()\n",
    "plt.show()"
   ]
  },
  {
   "cell_type": "markdown",
   "id": "107e60de-993a-40fd-a306-a33f1f18a320",
   "metadata": {},
   "source": [
    "> *This boxplot shows the spread of RFM scores across each customer segment, highlighting median behavior and variability within segments. Segments with higher median scores are typically more valuable or engaged customers.*"
   ]
  },
  {
   "cell_type": "markdown",
   "id": "456ebc50-976e-496e-a23f-faae9ee04788",
   "metadata": {},
   "source": [
    "### Customer Segment Analysis  \n",
    "Detailed analysis of customer segments by calculating key metrics for each segment."
   ]
  },
  {
   "cell_type": "code",
   "execution_count": null,
   "id": "6744be9f-512d-4740-a557-31f52d49e20a",
   "metadata": {},
   "outputs": [],
   "source": [
    "%%sql\n",
    "SELECT \n",
    "    seg.customer_segment, \n",
    "    COUNT(rfm.customer_id) AS total_customers,\n",
    "    ROUND(SUM(rfm.monetary), 2) AS total_revenue,\n",
    "    ROUND(SUM(rfm.monetary) / SUM(rfm.frequency), 2) AS avg_order_value, \n",
    "    ROUND(AVG(rfm.recency), 2) AS avg_recency,   \n",
    "    ROUND(AVG(rfm.frequency), 2) AS avg_frequency, \n",
    "    ROUND(AVG(rfm.monetary), 2) AS avg_monetary \n",
    "FROM customer_segments seg\n",
    "JOIN rfm_analysis rfm ON seg.customer_id = rfm.customer_id\n",
    "GROUP BY seg.customer_segment\n",
    "ORDER BY total_revenue DESC;"
   ]
  },
  {
   "cell_type": "markdown",
   "id": "4821582c-bcd5-4176-b62f-e566922fad9c",
   "metadata": {},
   "source": [
    "- **Champions** (589 customers) generate over **£4.46M**, nearly half of all revenue, with an AOV of £585 and ~13 orders each.\n",
    "- **Loyal Customers** (723 customers) contribute **£2.29M**, showing strong recurring behavior and healthy AOV.\n",
    "- **At Risk** and **Can’t Lose Them** customers, while fewer, still generate high value, highlighting them as recovery priorities.\n",
    "- **Hibernating** and **About to Sleep** are larger in size but contribute significantly less, indicating disengagement.\n",
    "- **New Customers** and **Promising** are small and low-value, but represent opportunity if nurtured early."
   ]
  },
  {
   "cell_type": "markdown",
   "id": "7b59a3fc-358f-4518-9140-1f2d1fa5773e",
   "metadata": {},
   "source": [
    "### Comparative Heatmaps of Customer Segments by RFM Metrics"
   ]
  },
  {
   "cell_type": "code",
   "execution_count": null,
   "id": "0eb937ef-9fd4-4c8a-b634-8d2389ba0284",
   "metadata": {},
   "outputs": [],
   "source": [
    "# Fetch RFM averages by segment\n",
    "query = \"\"\"\n",
    "    SELECT seg.customer_segment, \n",
    "           AVG(rfm.recency) AS avg_recency, \n",
    "           AVG(rfm.frequency) AS avg_frequency, \n",
    "           AVG(rfm.monetary) AS avg_monetary\n",
    "    FROM rfm_analysis rfm\n",
    "    JOIN customer_segments seg ON rfm.customer_id = seg.customer_id\n",
    "    GROUP BY seg.customer_segment;\n",
    "\"\"\"\n",
    "df_rfm_heatmap = pd.read_sql(query, conn)\n",
    "df_rfm_heatmap.set_index(\"customer_segment\", inplace=True)   # Set 'customer_segment' as index for heatmap\n",
    "\n",
    "# Define individual color maps\n",
    "colormaps = {\n",
    "    \"avg_recency\": \"Blues_r\",  # Lower Recency is better\n",
    "    \"avg_frequency\": \"Oranges\",  # Higher Frequency is better\n",
    "    \"avg_monetary\": \"Greens\"   # Higher Monetary is better\n",
    "}\n",
    "\n",
    "# Creating 3 heatmaps side by side\n",
    "fig, axes = plt.subplots(1, 3, figsize=(18, 6))\n",
    "for i, (column, cmap) in enumerate(colormaps.items()):\n",
    "    sns.heatmap(df_rfm_heatmap[[column]], annot=True, fmt=\".1f\", cmap=cmap, linewidths=0.5, ax=axes[i], annot_kws={\"size\": 12})\n",
    "    axes[i].set_title(column.replace(\"avg_\", \"\").capitalize(), fontsize=14, fontweight=\"bold\")\n",
    "    axes[i].set_xlabel(\"\")\n",
    "    axes[i].set_ylabel(\"Customer Segment\" if i == 0 else \"\")\n",
    "plt.tight_layout()\n",
    "plt.show()"
   ]
  },
  {
   "cell_type": "markdown",
   "id": "0ae68c70-8c92-43e2-aaf9-7fd764030176",
   "metadata": {},
   "source": [
    "These side-by-side heatmaps compare average **Recency**, **Frequency**, and **Monetary** across customer segments:\n",
    "- **Champions** have the best scores across all three dimensions (lowest recency, highest frequency and monetary).\n",
    "- **Hibernating** and **At Risk** segments stand out with high recency (inactive), but differ in value and frequency.\n",
    "- **Can’t Lose Them** also show low recency with high monetary value — a clear recovery opportunity.\n",
    "- The visual layout clearly communicates where engagement and spending are strongest or slipping."
   ]
  },
  {
   "cell_type": "markdown",
   "id": "3b7031ee-7827-490f-8046-550c47548d04",
   "metadata": {},
   "source": [
    "### Customer Distribution by Recency and Frequency + Monetary Scores"
   ]
  },
  {
   "cell_type": "code",
   "execution_count": null,
   "id": "567bd75f-2053-4d1c-ae0d-2e49830b7844",
   "metadata": {},
   "outputs": [],
   "source": [
    "# Fetch R & F Scores with Customer Count\n",
    "query = \"\"\"\n",
    "    SELECT r_score, (f_score + m_score) / 2 AS avg_fm_score, COUNT(customer_id) AS total_customers\n",
    "    FROM rfm_analysis\n",
    "    GROUP BY r_score, avg_fm_score;\n",
    "\"\"\"\n",
    "df_grid = pd.read_sql(query, conn)\n",
    "\n",
    "# Pivot the table for heatmap format\n",
    "heatmap_data = df_grid.pivot(index=\"avg_fm_score\", columns=\"r_score\", values=\"total_customers\")\n",
    "\n",
    "# Create heatmap\n",
    "plt.figure(figsize=(10, 6))\n",
    "sns.heatmap(heatmap_data, annot=True, fmt=\".0f\", cmap=\"coolwarm\", linewidths=0.5, cbar=True)\n",
    "plt.xlabel(\"Recency Score\")\n",
    "plt.ylabel(\"(Frequency + Monetary) / 2 Score\")\n",
    "plt.title(\"Customers by RFM Scores\")\n",
    "plt.xticks(rotation=0)  # Ensure the labels are readable\n",
    "plt.yticks(rotation=0)\n",
    "plt.show()"
   ]
  },
  {
   "cell_type": "markdown",
   "id": "0e9043a3-f65c-4194-8f4d-d526e3d2e37a",
   "metadata": {},
   "source": [
    "This heatmap shows the **concentration of customers** across a matrix of **Recency** and **(Frequency + Monetary)/2** scores:\n",
    "- The densest cluster lies in mid-to-low R scores (i.e., older last purchases), with moderate FM scores — indicating many customers are at risk or dormant.\n",
    "- Few customers have low recency and high FM scores — aligning with the “Champion” profile. This grid helps visually assess which scoring combinations contain the largest customer bases and where to target marketing efforts."
   ]
  },
  {
   "cell_type": "markdown",
   "id": "86501890-098f-40f0-b846-f2738188f4d6",
   "metadata": {},
   "source": [
    "### RFM Segmentation Map: Customer Segments by Recency and Frequency/Monetary"
   ]
  },
  {
   "cell_type": "code",
   "execution_count": null,
   "id": "90426f23-9406-4353-a48d-0d5f4548c0f3",
   "metadata": {},
   "outputs": [],
   "source": [
    "# Fetch RFM segment data\n",
    "query = \"\"\"\n",
    "    SELECT cs.customer_segment, \n",
    "           ra.r_score, \n",
    "           (ra.f_score + ra.m_score) / 2 AS avg_fm_score, \n",
    "           COUNT(cs.customer_id) AS customer_count\n",
    "    FROM customer_segments cs\n",
    "    JOIN rfm_analysis ra ON cs.customer_id = ra.customer_id\n",
    "    GROUP BY cs.customer_segment, ra.r_score, avg_fm_score\n",
    "    ORDER BY avg_fm_score DESC, ra.r_score;\n",
    "\"\"\"\n",
    "df_mosaic = pd.read_sql(query, conn)"
   ]
  },
  {
   "cell_type": "code",
   "execution_count": null,
   "id": "5d53f0d9-80ab-4d00-b8b4-ce1eb2ae2aaa",
   "metadata": {},
   "outputs": [],
   "source": [
    "# Calculate total customers\n",
    "total_customers = df_mosaic['customer_count'].sum()\n",
    "\n",
    "# Group by segment, recency, and average frequency+monetary score\n",
    "pivot_data = df_mosaic.groupby([\"customer_segment\", \"r_score\", \"avg_fm_score\"])[\"customer_count\"].sum().reset_index()\n",
    "\n",
    "# Plot figure\n",
    "fig, ax = plt.subplots(figsize=(16.5, 9), facecolor=\"white\")\n",
    "ax.set_aspect(0.5)\n",
    "for spine in ax.spines.values():\n",
    "    spine.set_visible(False)\n",
    "\n",
    "# Prepare merged blocks for each segment\n",
    "merged_blocks = []\n",
    "for segment in pivot_data[\"customer_segment\"].unique():\n",
    "    segment_data = pivot_data[pivot_data[\"customer_segment\"] == segment]\n",
    "\n",
    "    min_r = segment_data[\"r_score\"].min()\n",
    "    max_r = segment_data[\"r_score\"].max()\n",
    "    min_fm = segment_data[\"avg_fm_score\"].min()\n",
    "    max_fm = segment_data[\"avg_fm_score\"].max()\n",
    "\n",
    "    total_segment_customers = segment_data[\"customer_count\"].sum()\n",
    "    percentage = round((total_segment_customers / total_customers) * 100, 2)\n",
    "\n",
    "    merged_blocks.append({\n",
    "        \"segment\": segment,\n",
    "        \"r_start\": min_r - 1,\n",
    "        \"r_width\": max_r - min_r + 1,\n",
    "        \"fm_start\": min_fm - 1,\n",
    "        \"fm_height\": max_fm - min_fm + 1,\n",
    "        \"customer_count\": total_segment_customers,\n",
    "        \"percentage\": percentage\n",
    "    })\n",
    "\n",
    "# Draw the merged rectangles and label them\n",
    "for block in merged_blocks:\n",
    "    rect = Rectangle((block[\"r_start\"], block[\"fm_start\"]), block[\"r_width\"], block[\"fm_height\"], \n",
    "                     facecolor=segment_colors.get(block[\"segment\"], \"#D3D3D3\"), edgecolor=\"white\", linewidth=2)\n",
    "    ax.add_patch(rect)\n",
    "    ax.text(block[\"r_start\"] + block[\"r_width\"] / 2, block[\"fm_start\"] + block[\"fm_height\"] / 2,\n",
    "            f\"{block['segment']}\\n{block['customer_count']:,}\\n({block['percentage']}%)\",\n",
    "            ha=\"center\", va=\"center\", fontsize=9.5, fontweight=\"bold\", color=\"black\")\n",
    "tick_positions = np.arange(5) + 0.5\n",
    "ax.set_xticks(tick_positions)\n",
    "ax.set_xticklabels(range(1, 6), fontsize=12, color=\"black\", fontweight=\"bold\")\n",
    "ax.set_yticks(tick_positions)\n",
    "ax.set_yticklabels(range(1, 6), fontsize=12, color=\"black\", fontweight=\"bold\")\n",
    "ax.tick_params(axis='both', which='both', length=0, pad=-2)\n",
    "label_fontsize = 14\n",
    "ax.set_xlabel(\"Recency\", fontsize=label_fontsize, fontweight=\"bold\", color=\"black\", labelpad=5)  \n",
    "ax.set_ylabel(\"(Frequency + Monetary) / 2\", fontsize=label_fontsize, fontweight=\"bold\", color=\"black\", labelpad=10)  \n",
    "plt.title(\"Customer Segments by Recency, Frequency & Monetary Scores\", fontsize=16, fontweight=\"bold\", color=\"black\", pad=10)\n",
    "plt.grid(False)\n",
    "plt.axis(\"scaled\")\n",
    "plt.show()"
   ]
  },
  {
   "cell_type": "markdown",
   "id": "7181a9e4-e776-4c32-9361-d0d904a3cee1",
   "metadata": {},
   "source": [
    "> This shows how customers are distributed based on their RFM scores. Each rectangle corresponds to a customer segment (e.g., Champions, Potential Loyalists). Labels inside each rectangle show segment name, count, and percentage of total customer. \n",
    "> - **Champions** and **Loyal Customers** dominate the top-right of the grid — high FM scores and low recency, signaling active, high-value buyers.\n",
    "> - Segments like **At Risk** and **Hibernating** fall toward lower FM and higher recency, indicating disengagement and potential churn.\n",
    "> - Mid-tier segments like **Promising** and **Needs Attention** occupy narrow score bands, suggesting more targeted growth or retention potential."
   ]
  },
  {
   "cell_type": "markdown",
   "id": "efccc196-4b60-4d19-96c4-a15039713615",
   "metadata": {},
   "source": [
    "### Revenue Analysis by Customer Segment\n",
    "Revenue Distribution and Trends by Customer Segment"
   ]
  },
  {
   "cell_type": "code",
   "execution_count": null,
   "id": "4fb99463-3e07-47e7-98a7-27007878286d",
   "metadata": {},
   "outputs": [],
   "source": [
    "# Revenue over time by segment \n",
    "query_revenue_overtime = \"\"\"\n",
    "    SELECT \n",
    "        strftime('%Y-%m', o.invoice_date) AS month,\n",
    "        seg.customer_segment,\n",
    "        ROUND(SUM(o.total_sales), 2) AS total_revenue\n",
    "    FROM customer_segments seg\n",
    "    JOIN online_retail o ON seg.customer_id = o.customer_id\n",
    "    GROUP BY month, seg.customer_segment\n",
    "    ORDER BY month ASC, total_revenue DESC;\n",
    "\"\"\"\n",
    "df_revenue_overtime = pd.read_sql(query_revenue_overtime, conn)\n",
    "df_revenue_overtime"
   ]
  },
  {
   "cell_type": "code",
   "execution_count": null,
   "id": "494b3ebe-7033-447b-b2d5-5e32bf5d56f5",
   "metadata": {},
   "outputs": [],
   "source": [
    "# Revenue contribution by segment \n",
    "query_revenue_pie = \"\"\"\n",
    "    SELECT seg.customer_segment,\n",
    "           ROUND(SUM(o.total_sales), 2) AS total_revenue\n",
    "    FROM customer_segments seg\n",
    "    JOIN online_retail o ON seg.customer_id = o.customer_id\n",
    "    GROUP BY seg.customer_segment\n",
    "    ORDER BY total_revenue DESC;\n",
    "\"\"\"\n",
    "df_revenue_cont = pd.read_sql(query_revenue_cont, conn)\n",
    "df_revenue_cont"
   ]
  },
  {
   "cell_type": "code",
   "execution_count": null,
   "id": "41ab5d3a-2fbf-4890-a7a5-2731cf9fa57a",
   "metadata": {},
   "outputs": [],
   "source": [
    "# Consistent color palette for both charts\n",
    "segment_palette_line = [segment_colors.get(seg, \"#D3D3D3\") for seg in df_revenue_cont[\"customer_segment\"]]\n",
    "color_dict = {seg: segment_colors.get(seg, \"#D3D3D3\") for seg in df_revenue_cont[\"customer_segment\"]}\n",
    "\n",
    "# Create subplots: 1 row, 2 columns\n",
    "fig = make_subplots(rows=1, cols=2, subplot_titles=(\"Total Revenue by Customer Segment Over Time\", \"Revenue Contribution by Customer Segment\"),\n",
    "                    specs=[[{\"type\": \"scatter\"}, {\"type\": \"domain\"}]])\n",
    "\n",
    "# Line Chart \n",
    "for segment in df_revenue_overtime['customer_segment'].unique():\n",
    "    data = df_revenue_overtime[df_revenue_time['customer_segment'] == segment]\n",
    "    fig.add_trace(\n",
    "     go.Scatter(x=data['month'], y=data['total_revenue'], mode='lines+markers', name=segment, line=dict(color=segment_colors.get(segment, \"#D3D3D3\")),\n",
    "            hovertemplate=f\"<b>{segment}</b><br>Month: %{{x}}<br>Revenue: £%{{y:,.2f}}<extra></extra>\", showlegend=False), row=1, col=1)\n",
    "\n",
    "# Pie Chart \n",
    "fig.add_trace(\n",
    "    go.Pie(labels=df_revenue_cont['customer_segment'], values=df_revenue_cont['total_revenue'],\n",
    "           marker=dict(colors=[segment_colors.get(seg, \"#D3D3D3\") for seg in df_revenue_cont['customer_segment']], line=dict(color='white', width=1)),\n",
    "           textinfo='label+percent', hovertemplate=\"<b>%{label}</b><br>Revenue: £%{value:,.2f}<br>Percent: %{percent}<extra></extra>\",\n",
    "           showlegend=False), row=1, col=2)\n",
    "\n",
    "# Final layout\n",
    "fig.update_layout(height=600, width=1200, margin=dict(t=60, b=40, l=40, r=40), plot_bgcolor='white', paper_bgcolor='white', \n",
    "                  xaxis=dict(title=\"Month\", showgrid=False, showline=True, linecolor='black', tickangle=-45, \n",
    "                             tickfont=dict(color='black'), titlefont=dict(color='black')),\n",
    "                  yaxis=dict(title=\"Total Revenue (£)\", showgrid=False, showline=True, linecolor='black', \n",
    "                             tickfont=dict(color='black'), titlefont=dict(color='black')), font=dict(color='black'))\n",
    "fig.show()"
   ]
  },
  {
   "cell_type": "markdown",
   "id": "9b9fa2ff-0536-4d17-9ce7-d205746a33f0",
   "metadata": {},
   "source": [
    "> This dual visualization combines **temporal trends and segment-level revenue distribution** uncovering not only who drives the most revenue but **when**:  \n",
    "> - The **line chart** shows monthly revenue trends by segment. **Champions and Loyal Customers** dominate revenue generation, with clear spikes during peak shopping seasons (e.g., October–November holiday period)\n",
    "> - The **pie chart** shows overall revenue contribution share by segment. **Champions alone contribute over 50% of total revenue**, followed by Loyal Customers and At Risk segments — collectively making up the bulk of financial performance.<br><br/>"
   ]
  },
  {
   "cell_type": "markdown",
   "id": "e699bb50-a1df-4269-a1b1-e7efc2635cc5",
   "metadata": {},
   "source": [
    "### Customer Segments Distribution by Recency and Frequency Scores"
   ]
  },
  {
   "cell_type": "code",
   "execution_count": null,
   "id": "c018669c-e5ab-46f2-8bfd-754ecaff8262",
   "metadata": {},
   "outputs": [],
   "source": [
    "# Fetch customer segmentation data with sales & order frequency\n",
    "query = \"\"\"\n",
    "    SELECT \n",
    "    c.customer_segment, \n",
    "    AVG(r.recency) AS avg_recency,\n",
    "    AVG(r.frequency) AS avg_frequency,\n",
    "    AVG(r.monetary) AS avg_monetary,\n",
    "    COUNT(c.customer_id) AS total_customers\n",
    "FROM customer_segments c\n",
    "JOIN rfm_analysis r ON c.customer_id = r.customer_id\n",
    "GROUP BY c.customer_segment;\n",
    "\"\"\"\n",
    "df_order_segment = pd.read_sql(query, conn)"
   ]
  },
  {
   "cell_type": "code",
   "execution_count": null,
   "id": "45874ad1-e4fe-4e72-b88c-8096d9275566",
   "metadata": {},
   "outputs": [],
   "source": [
    "# Close the database connection\n",
    "conn.close()\n",
    "\n",
    "# Create figure\n",
    "fig = go.Figure()\n",
    "\n",
    "# Add scatter (bubble plot)\n",
    "fig.add_trace(\n",
    "    go.Scatter(x=df_order_segment[\"avg_recency\"], y=df_order_segment[\"avg_frequency\"], mode='markers+text', text=df_order_segment[\"customer_segment\"], \n",
    "               textposition='top center', textfont=dict(family='Verdana Bold',   size=14, color='black'),\n",
    "               marker=dict(size=df_order_segment[\"total_customers\"], sizemode='area', sizeref=2.*max(df_order_segment[\"total_customers\"])/(80**2),\n",
    "                           sizemin=10, color=df_order_segment[\"avg_monetary\"], colorscale='tealrose', colorbar=dict(title='Avg Monetary (£)'),\n",
    "                           line=dict(width=1.5, color='black')),\n",
    "               hovertemplate= \"<b>%{text}</b><br><br>\" + \"Recency: %{x:.2f} days<br>\" + \"Frequency: %{y:.2f} orders<br>\" +      \n",
    "                              \"Average Monetary: £%{marker.color:,.2f}<br>\" + \"Total Customers: %{marker.size:,}<extra></extra>\",\n",
    "              showlegend=False))\n",
    "fig.update_layout(\n",
    "    title={'text': 'Customer Segments: Recency vs Frequency', 'y': 0.95, 'x': 0.5, 'xanchor': 'center', 'yanchor': 'top',\n",
    "           'font': dict(size=20, family='Arial', color='black')},\n",
    "    annotations=[\n",
    "        dict(text=\"Note: Bubble Size = Customer Count and Color = Average Monetary Value (£).\", x=0.3, y=-0.15, xref='paper', yref='paper',\n",
    "             showarrow=False, font=dict(size=12, color=\"black\"), xanchor='center')],\n",
    "    height=700, width=1000, margin=dict(b=100), plot_bgcolor='white', paper_bgcolor='white',\n",
    "    xaxis=dict(title=\"Average Recency (Days)\", showgrid=False, linecolor='black'),\n",
    "    yaxis=dict(title=\"Average Frequency (Orders)\", showgrid=False, linecolor='black'))"
   ]
  },
  {
   "cell_type": "markdown",
   "id": "61e33c87-d95e-4c1b-a0f0-7c8e8eee1352",
   "metadata": {},
   "source": [
    "This bubble chart plots customer segments by their average **Recency (x-axis)** and **Frequency (y-axis)**:\n",
    "- **Bubble size** represents the number of customers in each segment.\n",
    "- **Bubble color** reflects the segment’s **average monetary value (£)**.\n",
    "\n",
    "Key insights:\n",
    "- **Champions** have low recency, high frequency, and top monetary value — placed in the ideal top-left of the chart.\n",
    "- Segments like **Can’t Lose Them** and **At Risk** also show strong past activity but suffer from high recency, placing them in the recovery zone.\n",
    "- **Hibernating** and **Promising** segments cluster in low-frequency and low-value regions — good targets for reactivation or onboarding strategies."
   ]
  },
  {
   "cell_type": "markdown",
   "id": "02c97749-e49f-4ea7-b0dc-dac3838bed90",
   "metadata": {},
   "source": [
    "<a id=\"section4\"></a>\n",
    "## <span style=\"color: #0D47A1;\">**Insights & Recommendations**</span>\n",
    "\n",
    "---"
   ]
  },
  {
   "cell_type": "markdown",
   "id": "730dfa93-479b-4ee6-82a3-856d5ec7d5a2",
   "metadata": {},
   "source": [
    "\r\n",
    "\r\n",
    "### **Customer Behaviour Insights (From EDA)**\r\n",
    "\r\n",
    "#### **1. Revenue & Sales Patterns**\r\n",
    "- **Insight:**  \r\n",
    "  - Revenue peaked in **November 2011** (*likely due to holiday shopping*), with notable increases in **March**, **May**, and **September**.  \r\n",
    "  - Most transactions occur **midday (10 AM–3 PM)** and **midweek (Tue–Thu)**, accounting for ~80% of total transactions and revenue.  \r\n",
    "  - The average order value (AOV) is **£474.80**, with most purchases occurring during business hours — suggesting a predominantly **B2B customer base**.\r\n",
    "\r\n",
    "- **Recommendations:**  \r\n",
    "  - Schedule **flash sales**, **discounts**, and **“Midday Deals”** during peak weekday hours, particularly on **Thursdays**.  \r\n",
    "  - Launch **seasonal campaigns in Q4** — especially October to November — and offer **loyalty incentives** to retain new seasonal shoppers.  \r\n",
    "  - Experiment with **early morning (before 10 AM)** and **weekend promotions** to engage additional customer segments.\r\n",
    "\r\n",
    "#### **2. Market Expansion Strategy**\r\n",
    "- **Insight:**  \r\n",
    "  - The **UK** drives **90% of orders** and **82% of revenue**, representing the **core market**.  \r\n",
    "  - Secondary European markets (e.g., **Netherlands**, **Ireland**, **Germany**, **France**, **Australia**) exhibit **high revenue per customer**, suggesting bulk or high-value buying.  \r\n",
    "  - Smaller countries with <1% revenue (e.g., **Sweden**, **Switzerland**, **Japan**) show potential based on **high AOVs**.\r\n",
    "\r\n",
    "- **Recommendations:**  \r\n",
    "  - Continue optimizing for the **UK**, while enhancing **personalized experiences** in high-value international markets.  \r\n",
    "  - Test **localized campaigns** and **regional offers** in emerging markets to unlock untapped growth.\r\n",
    "\r\n",
    "#### **3. Product & Sales Performance**\r\n",
    "- **Insight:**  \r\n",
    "  - Top-selling products are **home décor** and **seasonal gift items** (e.g., bird crafts, cake stands, heart-shaped holders), reflecting demand for **affordable, decorative, and giftable goods**.  \r\n",
    "  - Product preferences vary by country — e.g., *art kits in Australia*, *chalk/gift packs in Austria*, *lip glosses in Bahrain*.\r\n",
    "\r\n",
    "- **Recommendations:**  \r\n",
    "  - Maintain strong inventory levels of **high-demand items**, especially ahead of **key holidays**.  \r\n",
    "  - Expand **themed product bundles** and introduce a **“Top Picks by Country”** feature for regional targeting.\r\n",
    "\r\n",
    "#### **4. Customer Loyalty & Retention**\r\n",
    "- **Insight:**  \r\n",
    "  - A **70.8% retention rate over 6 months** and **65.3% repeat buyer rate** show strong loyalty — but **34.7% of customers** purchase only once.  \r\n",
    "  - Spikes in churn (e.g., **November 2011**) coincide with seasonal acquisition, indicating **short-term buyers** often fail to convert into loyal customers.\r\n",
    "\r\n",
    "- **Recommendations:**  \r\n",
    "  - Set up **post-holiday re-engagement flows** to convert seasonal shoppers into repeat buyers.  \r\n",
    "  - Use **targeted onboarding** and **tailored offers** for first-time customers.  \r\n",
    "  - Launch a **loyalty or rewards program** to incled in HTML for a presentation or markdown file!"
   ]
  },
  {
   "cell_type": "markdown",
   "id": "7ef913e9-18b6-491c-9ac0-4d1a8d671659",
   "metadata": {},
   "source": [
    "\r\n",
    "\r\n",
    "### **Customer Segmentation Insights (From RFM Analysis)**\r\n",
    "\r\n",
    "#### **1. Focus on High-Value Segments**\r\n",
    "- **Insight:**  \r\n",
    "  - **Champions (14%)** and **Loyal Customers (17%)** together generate over **£6.7M**, contributing nearly **80% of total revenue**.  \r\n",
    "  - **Champions (589 customers)** alone drive over **£4.4M** — more than **50% of overall revenue**.  \r\n",
    "  - These segments have **low recency**, **high frequency**, and **strong monetary value**, indicating deep brand engagement.  \r\n",
    "  - **Loyal Customers** and **Potential Loyalists** (1,250+ customers) show **consistent and growing purchasing behavior**.\r\n",
    "\r\n",
    "- **Recommendations:**  \r\n",
    "  - Offer **VIP treatment** to Champions through **early access**, **exclusive rewards**, and **referral bonuses**.  \r\n",
    "  - Use **personalized upselling** and **priority engagement** to deepen loyalty with top-tier customers.  \r\n",
    "  - Convert Potential Loyalists into Loyal Customers using **tailored promotions**, **loyalty programs**, and **curated bundles**, while encouraging **reviews and referrals**.\r\n",
    "\r\n",
    "#### **2. Recover At-Risk & Dormant High-Value Customers**\r\n",
    "- **Insight:**  \r\n",
    "  - Segments like **“Can’t Lose Them”** and **“At Risk”** have **high historical spending** but recent disengagement.  \r\n",
    "  - Despite inactivity, they still contribute over **£1M in revenue**, showing strong **recovery potential**.\r\n",
    "\r\n",
    "- **Recommendations:**  \r\n",
    "  - Launch **win-back campaigns** with **personalized emails**, **exclusive discounts**, and **time-sensitive offers**.  \r\n",
    "  - Use **VIP reactivation strategies** for “Can’t Lose Them,” and **automated re-engagement flows** for “At Risk,” showcasing **trending or previously viewed products**.\r\n",
    "\r\n",
    "#### **3. Nurture Promising & New Customers**\r\n",
    "- **Insight:**  \r\n",
    "  - **New** and **Promising** customers show **high recency**, but **low frequency and spending**, indicating **early-stage engagement** with potential long-term value.\r\n",
    "\r\n",
    "- **Recommendations:**  \r\n",
    "  - Create **welcome journeys** with **onboarding guides**, **follow-up emails**, and **second-purchase incentives**.  \r\n",
    "  - Offer **personalized product suggestions** and **small loyalty rewards** to build purchase habits.  \r\n",
    "  - Encourage early enrollment in **loyalty programs** to guide Promising customers toward higher-value behaviors.\r\n",
    "\r\n",
    "#### **4. Optimize or Let Go of Low-ROI Segments**\r\n",
    "- **Insight:**  \r\n",
    "  - Segments like **“About to Sleep”**, **“Needs Attention”**, and **“Hibernating”** include over **1,500 customers** but contribute **minimal revenue** and show **limited engagement**.\r\n",
    "\r\n",
    "- **Recommendations:**  \r\n",
    "  - Use **batch marketing** approaches such as **seasonal promos** or **“We miss you” emails**.  \r\n",
    "  - Trigger **cart reminders** and **one-click reorder prompts** to re-engage low-ROI customers.  \r\n",
    "  - **Avoid high-effort outreach** — focus instead on slide, report, or GitHub `README.md` format."
   ]
  },
  {
   "cell_type": "code",
   "execution_count": null,
   "id": "ca190cb1-f971-42c9-a614-9c4f387e6913",
   "metadata": {},
   "outputs": [],
   "source": [
    "fig.write_html(\"rfm7.html\")\n",
    "plt.savefig(\"rfm5.png\", dpi=300, bbox_inches='tight')\n",
    "\n",
    "# Connect to SQLite and fetch data\n",
    "conn = sqlite3.connect(\"online_retail.db\")"
   ]
  }
 ],
 "metadata": {
  "kernelspec": {
   "display_name": "Python 3 (ipykernel)",
   "language": "python",
   "name": "python3"
  },
  "language_info": {
   "codemirror_mode": {
    "name": "ipython",
    "version": 3
   },
   "file_extension": ".py",
   "mimetype": "text/x-python",
   "name": "python",
   "nbconvert_exporter": "python",
   "pygments_lexer": "ipython3",
   "version": "3.9.4"
  }
 },
 "nbformat": 4,
 "nbformat_minor": 5
}
