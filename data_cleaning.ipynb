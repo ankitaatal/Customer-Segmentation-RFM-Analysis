{
 "cells": [
  {
   "cell_type": "markdown",
   "id": "973f178b-06d5-4216-a2c3-0329f431750d",
   "metadata": {},
   "source": [
    "# **DATA CLEANING**"
   ]
  },
  {
   "cell_type": "markdown",
   "id": "546e4938-453e-4058-b070-457203359a95",
   "metadata": {},
   "source": [
    "## **Introduction**\n",
    "This project analyzes **Online Retail Transactions** using the dataset from the [UCI Machine Learning Repository](https://archive.ics.uci.edu/dataset/352/online+retail). The dataset contains all transactions between **December 1, 2010**, and **December 9, 2011**, recorded for a UK-based non-store online retailer that primarily sells unique all-occasion gifts. The company serves both individual customers and wholesalers."
   ]
  },
  {
   "cell_type": "markdown",
   "id": "afc9845e-c5b3-4744-ad12-17283175ba8e",
   "metadata": {},
   "source": [
    "## **Dataset Overview**\n",
    "This dataset consists of **8 key variables** that capture **order details, product attributes, customer information, and sales data**.\n",
    "\n",
    "| **Variable**    | **Role**      | **Type**        | **Description** | **Missing Values** |\n",
    "|----------------|--------------|----------------|----------------|---------------------|\n",
    "| **InvoiceNo**  | ID           | Categorical    | Unique transaction ID (6-digit). If it starts with 'C', it indicates a cancellation. | No |\n",
    "| **StockCode**  | ID           | Categorical    | Unique 5-digit product code. | No |\n",
    "| **Description** | Feature     | Categorical    | Product name. | No |\n",
    "| **Quantity**   | Feature      | Integer        | Number of items purchased per transaction. | No |\n",
    "| **InvoiceDate** | Feature     | Date           | Date and time when the transaction was recorded. | No |\n",
    "| **UnitPrice**  | Feature      | Continuous     | Price per unit in sterling (£). | No |\n",
    "| **CustomerID** | Feature      | Categorical    | Unique 5-digit customer identifier. | No |\n",
    "| **Country**    | Feature      | Categorical    | Customer's country of residence. | No |"
   ]
  },
  {
   "cell_type": "markdown",
   "id": "14850c0f-1784-44b1-8d5e-453c86ec0058",
   "metadata": {},
   "source": [
    "## **Data Preprocessing**"
   ]
  },
  {
   "cell_type": "markdown",
   "id": "2c523ca1-c6f1-4c26-a98e-abb46ea5e62d",
   "metadata": {},
   "source": [
    "### **_1. Load & Inspect the Data_**"
   ]
  },
  {
   "cell_type": "code",
   "execution_count": 1,
   "id": "f949e3a9-68e9-489d-b8d7-a639e5d69b39",
   "metadata": {},
   "outputs": [],
   "source": [
    "# Import Required Libraries\n",
    "import pandas as pd\n",
    "\n",
    "# Load the dataset\n",
    "df = pd.read_csv(\"OnlineRetail.csv\")"
   ]
  },
  {
   "cell_type": "code",
   "execution_count": 2,
   "id": "9fb358e3-4e1a-46a6-8772-111061589efd",
   "metadata": {},
   "outputs": [
    {
     "data": {
      "text/html": [
       "<div>\n",
       "<style scoped>\n",
       "    .dataframe tbody tr th:only-of-type {\n",
       "        vertical-align: middle;\n",
       "    }\n",
       "\n",
       "    .dataframe tbody tr th {\n",
       "        vertical-align: top;\n",
       "    }\n",
       "\n",
       "    .dataframe thead th {\n",
       "        text-align: right;\n",
       "    }\n",
       "</style>\n",
       "<table border=\"1\" class=\"dataframe\">\n",
       "  <thead>\n",
       "    <tr style=\"text-align: right;\">\n",
       "      <th></th>\n",
       "      <th>InvoiceNo</th>\n",
       "      <th>StockCode</th>\n",
       "      <th>Description</th>\n",
       "      <th>Quantity</th>\n",
       "      <th>InvoiceDate</th>\n",
       "      <th>UnitPrice</th>\n",
       "      <th>CustomerID</th>\n",
       "      <th>Country</th>\n",
       "    </tr>\n",
       "  </thead>\n",
       "  <tbody>\n",
       "    <tr>\n",
       "      <th>0</th>\n",
       "      <td>536365</td>\n",
       "      <td>85123A</td>\n",
       "      <td>WHITE HANGING HEART T-LIGHT HOLDER</td>\n",
       "      <td>6</td>\n",
       "      <td>01-12-2010 08:26</td>\n",
       "      <td>2.55</td>\n",
       "      <td>17850.0</td>\n",
       "      <td>United Kingdom</td>\n",
       "    </tr>\n",
       "    <tr>\n",
       "      <th>1</th>\n",
       "      <td>536365</td>\n",
       "      <td>71053</td>\n",
       "      <td>WHITE METAL LANTERN</td>\n",
       "      <td>6</td>\n",
       "      <td>01-12-2010 08:26</td>\n",
       "      <td>3.39</td>\n",
       "      <td>17850.0</td>\n",
       "      <td>United Kingdom</td>\n",
       "    </tr>\n",
       "    <tr>\n",
       "      <th>2</th>\n",
       "      <td>536365</td>\n",
       "      <td>84406B</td>\n",
       "      <td>CREAM CUPID HEARTS COAT HANGER</td>\n",
       "      <td>8</td>\n",
       "      <td>01-12-2010 08:26</td>\n",
       "      <td>2.75</td>\n",
       "      <td>17850.0</td>\n",
       "      <td>United Kingdom</td>\n",
       "    </tr>\n",
       "    <tr>\n",
       "      <th>3</th>\n",
       "      <td>536365</td>\n",
       "      <td>84029G</td>\n",
       "      <td>KNITTED UNION FLAG HOT WATER BOTTLE</td>\n",
       "      <td>6</td>\n",
       "      <td>01-12-2010 08:26</td>\n",
       "      <td>3.39</td>\n",
       "      <td>17850.0</td>\n",
       "      <td>United Kingdom</td>\n",
       "    </tr>\n",
       "    <tr>\n",
       "      <th>4</th>\n",
       "      <td>536365</td>\n",
       "      <td>84029E</td>\n",
       "      <td>RED WOOLLY HOTTIE WHITE HEART.</td>\n",
       "      <td>6</td>\n",
       "      <td>01-12-2010 08:26</td>\n",
       "      <td>3.39</td>\n",
       "      <td>17850.0</td>\n",
       "      <td>United Kingdom</td>\n",
       "    </tr>\n",
       "  </tbody>\n",
       "</table>\n",
       "</div>"
      ],
      "text/plain": [
       "  InvoiceNo StockCode                          Description  Quantity  \\\n",
       "0    536365    85123A   WHITE HANGING HEART T-LIGHT HOLDER         6   \n",
       "1    536365     71053                  WHITE METAL LANTERN         6   \n",
       "2    536365    84406B       CREAM CUPID HEARTS COAT HANGER         8   \n",
       "3    536365    84029G  KNITTED UNION FLAG HOT WATER BOTTLE         6   \n",
       "4    536365    84029E       RED WOOLLY HOTTIE WHITE HEART.         6   \n",
       "\n",
       "        InvoiceDate  UnitPrice  CustomerID         Country  \n",
       "0  01-12-2010 08:26       2.55     17850.0  United Kingdom  \n",
       "1  01-12-2010 08:26       3.39     17850.0  United Kingdom  \n",
       "2  01-12-2010 08:26       2.75     17850.0  United Kingdom  \n",
       "3  01-12-2010 08:26       3.39     17850.0  United Kingdom  \n",
       "4  01-12-2010 08:26       3.39     17850.0  United Kingdom  "
      ]
     },
     "execution_count": 2,
     "metadata": {},
     "output_type": "execute_result"
    }
   ],
   "source": [
    "# View first few rows\n",
    "df.head()"
   ]
  },
  {
   "cell_type": "code",
   "execution_count": 3,
   "id": "4546e599-7722-4be1-8d75-df59fe65423e",
   "metadata": {},
   "outputs": [
    {
     "data": {
      "text/html": [
       "<div>\n",
       "<style scoped>\n",
       "    .dataframe tbody tr th:only-of-type {\n",
       "        vertical-align: middle;\n",
       "    }\n",
       "\n",
       "    .dataframe tbody tr th {\n",
       "        vertical-align: top;\n",
       "    }\n",
       "\n",
       "    .dataframe thead th {\n",
       "        text-align: right;\n",
       "    }\n",
       "</style>\n",
       "<table border=\"1\" class=\"dataframe\">\n",
       "  <thead>\n",
       "    <tr style=\"text-align: right;\">\n",
       "      <th></th>\n",
       "      <th>InvoiceNo</th>\n",
       "      <th>StockCode</th>\n",
       "      <th>Description</th>\n",
       "      <th>Quantity</th>\n",
       "      <th>InvoiceDate</th>\n",
       "      <th>UnitPrice</th>\n",
       "      <th>CustomerID</th>\n",
       "      <th>Country</th>\n",
       "    </tr>\n",
       "  </thead>\n",
       "  <tbody>\n",
       "    <tr>\n",
       "      <th>541904</th>\n",
       "      <td>581587</td>\n",
       "      <td>22613</td>\n",
       "      <td>PACK OF 20 SPACEBOY NAPKINS</td>\n",
       "      <td>12</td>\n",
       "      <td>09-12-2011 12:50</td>\n",
       "      <td>0.85</td>\n",
       "      <td>12680.0</td>\n",
       "      <td>France</td>\n",
       "    </tr>\n",
       "    <tr>\n",
       "      <th>541905</th>\n",
       "      <td>581587</td>\n",
       "      <td>22899</td>\n",
       "      <td>CHILDREN'S APRON DOLLY GIRL</td>\n",
       "      <td>6</td>\n",
       "      <td>09-12-2011 12:50</td>\n",
       "      <td>2.10</td>\n",
       "      <td>12680.0</td>\n",
       "      <td>France</td>\n",
       "    </tr>\n",
       "    <tr>\n",
       "      <th>541906</th>\n",
       "      <td>581587</td>\n",
       "      <td>23254</td>\n",
       "      <td>CHILDRENS CUTLERY DOLLY GIRL</td>\n",
       "      <td>4</td>\n",
       "      <td>09-12-2011 12:50</td>\n",
       "      <td>4.15</td>\n",
       "      <td>12680.0</td>\n",
       "      <td>France</td>\n",
       "    </tr>\n",
       "    <tr>\n",
       "      <th>541907</th>\n",
       "      <td>581587</td>\n",
       "      <td>23255</td>\n",
       "      <td>CHILDRENS CUTLERY CIRCUS PARADE</td>\n",
       "      <td>4</td>\n",
       "      <td>09-12-2011 12:50</td>\n",
       "      <td>4.15</td>\n",
       "      <td>12680.0</td>\n",
       "      <td>France</td>\n",
       "    </tr>\n",
       "    <tr>\n",
       "      <th>541908</th>\n",
       "      <td>581587</td>\n",
       "      <td>22138</td>\n",
       "      <td>BAKING SET 9 PIECE RETROSPOT</td>\n",
       "      <td>3</td>\n",
       "      <td>09-12-2011 12:50</td>\n",
       "      <td>4.95</td>\n",
       "      <td>12680.0</td>\n",
       "      <td>France</td>\n",
       "    </tr>\n",
       "  </tbody>\n",
       "</table>\n",
       "</div>"
      ],
      "text/plain": [
       "       InvoiceNo StockCode                      Description  Quantity  \\\n",
       "541904    581587     22613      PACK OF 20 SPACEBOY NAPKINS        12   \n",
       "541905    581587     22899     CHILDREN'S APRON DOLLY GIRL          6   \n",
       "541906    581587     23254    CHILDRENS CUTLERY DOLLY GIRL          4   \n",
       "541907    581587     23255  CHILDRENS CUTLERY CIRCUS PARADE         4   \n",
       "541908    581587     22138    BAKING SET 9 PIECE RETROSPOT          3   \n",
       "\n",
       "             InvoiceDate  UnitPrice  CustomerID Country  \n",
       "541904  09-12-2011 12:50       0.85     12680.0  France  \n",
       "541905  09-12-2011 12:50       2.10     12680.0  France  \n",
       "541906  09-12-2011 12:50       4.15     12680.0  France  \n",
       "541907  09-12-2011 12:50       4.15     12680.0  France  \n",
       "541908  09-12-2011 12:50       4.95     12680.0  France  "
      ]
     },
     "execution_count": 3,
     "metadata": {},
     "output_type": "execute_result"
    }
   ],
   "source": [
    "# View last few rows\n",
    "df.tail()"
   ]
  },
  {
   "cell_type": "code",
   "execution_count": 4,
   "id": "8a9939c9-9503-41bf-b852-9e08b84b5db5",
   "metadata": {},
   "outputs": [
    {
     "name": "stdout",
     "output_type": "stream",
     "text": [
      "<class 'pandas.core.frame.DataFrame'>\n",
      "RangeIndex: 541909 entries, 0 to 541908\n",
      "Data columns (total 8 columns):\n",
      " #   Column       Non-Null Count   Dtype  \n",
      "---  ------       --------------   -----  \n",
      " 0   InvoiceNo    541909 non-null  object \n",
      " 1   StockCode    541909 non-null  object \n",
      " 2   Description  540455 non-null  object \n",
      " 3   Quantity     541909 non-null  int64  \n",
      " 4   InvoiceDate  541909 non-null  object \n",
      " 5   UnitPrice    541909 non-null  float64\n",
      " 6   CustomerID   406829 non-null  float64\n",
      " 7   Country      541909 non-null  object \n",
      "dtypes: float64(2), int64(1), object(5)\n",
      "memory usage: 33.1+ MB\n"
     ]
    }
   ],
   "source": [
    "# Check Dataset Structure\n",
    "df.info()"
   ]
  },
  {
   "cell_type": "code",
   "execution_count": 5,
   "id": "2f317e5e-59d7-4f47-8183-0411e2df58a2",
   "metadata": {},
   "outputs": [
    {
     "data": {
      "text/html": [
       "<div>\n",
       "<style scoped>\n",
       "    .dataframe tbody tr th:only-of-type {\n",
       "        vertical-align: middle;\n",
       "    }\n",
       "\n",
       "    .dataframe tbody tr th {\n",
       "        vertical-align: top;\n",
       "    }\n",
       "\n",
       "    .dataframe thead th {\n",
       "        text-align: right;\n",
       "    }\n",
       "</style>\n",
       "<table border=\"1\" class=\"dataframe\">\n",
       "  <thead>\n",
       "    <tr style=\"text-align: right;\">\n",
       "      <th></th>\n",
       "      <th>Quantity</th>\n",
       "      <th>UnitPrice</th>\n",
       "      <th>CustomerID</th>\n",
       "    </tr>\n",
       "  </thead>\n",
       "  <tbody>\n",
       "    <tr>\n",
       "      <th>count</th>\n",
       "      <td>541909.000000</td>\n",
       "      <td>541909.000000</td>\n",
       "      <td>406829.000000</td>\n",
       "    </tr>\n",
       "    <tr>\n",
       "      <th>mean</th>\n",
       "      <td>9.552250</td>\n",
       "      <td>4.611114</td>\n",
       "      <td>15287.690570</td>\n",
       "    </tr>\n",
       "    <tr>\n",
       "      <th>std</th>\n",
       "      <td>218.081158</td>\n",
       "      <td>96.759853</td>\n",
       "      <td>1713.600303</td>\n",
       "    </tr>\n",
       "    <tr>\n",
       "      <th>min</th>\n",
       "      <td>-80995.000000</td>\n",
       "      <td>-11062.060000</td>\n",
       "      <td>12346.000000</td>\n",
       "    </tr>\n",
       "    <tr>\n",
       "      <th>25%</th>\n",
       "      <td>1.000000</td>\n",
       "      <td>1.250000</td>\n",
       "      <td>13953.000000</td>\n",
       "    </tr>\n",
       "    <tr>\n",
       "      <th>50%</th>\n",
       "      <td>3.000000</td>\n",
       "      <td>2.080000</td>\n",
       "      <td>15152.000000</td>\n",
       "    </tr>\n",
       "    <tr>\n",
       "      <th>75%</th>\n",
       "      <td>10.000000</td>\n",
       "      <td>4.130000</td>\n",
       "      <td>16791.000000</td>\n",
       "    </tr>\n",
       "    <tr>\n",
       "      <th>max</th>\n",
       "      <td>80995.000000</td>\n",
       "      <td>38970.000000</td>\n",
       "      <td>18287.000000</td>\n",
       "    </tr>\n",
       "  </tbody>\n",
       "</table>\n",
       "</div>"
      ],
      "text/plain": [
       "            Quantity      UnitPrice     CustomerID\n",
       "count  541909.000000  541909.000000  406829.000000\n",
       "mean        9.552250       4.611114   15287.690570\n",
       "std       218.081158      96.759853    1713.600303\n",
       "min    -80995.000000  -11062.060000   12346.000000\n",
       "25%         1.000000       1.250000   13953.000000\n",
       "50%         3.000000       2.080000   15152.000000\n",
       "75%        10.000000       4.130000   16791.000000\n",
       "max     80995.000000   38970.000000   18287.000000"
      ]
     },
     "execution_count": 5,
     "metadata": {},
     "output_type": "execute_result"
    }
   ],
   "source": [
    "# Generate descriptive statistics for numerical columns\n",
    "df.describe()"
   ]
  },
  {
   "cell_type": "code",
   "execution_count": 6,
   "id": "5a01b65a-ef7c-45dc-a524-fa34c7b5c80c",
   "metadata": {},
   "outputs": [
    {
     "name": "stdout",
     "output_type": "stream",
     "text": [
      "InvoiceNo      25900\n",
      "StockCode       4070\n",
      "Description     4223\n",
      "Quantity         722\n",
      "InvoiceDate    23260\n",
      "UnitPrice       1630\n",
      "CustomerID      4372\n",
      "Country           38\n",
      "dtype: int64\n"
     ]
    }
   ],
   "source": [
    "# Count unique values for each column\n",
    "unique_counts = df.nunique()\n",
    "\n",
    "# Display unique counts\n",
    "print(unique_counts)"
   ]
  },
  {
   "cell_type": "markdown",
   "id": "8fa8fee1-312b-495d-9a4d-a91ce0c0e690",
   "metadata": {},
   "source": [
    "### **_2. Handling Missing Values_**"
   ]
  },
  {
   "cell_type": "code",
   "execution_count": 7,
   "id": "ba7eb080-a150-4d43-95d6-91a037bac6fa",
   "metadata": {},
   "outputs": [
    {
     "data": {
      "text/plain": [
       "InvoiceNo           0\n",
       "StockCode           0\n",
       "Description      1454\n",
       "Quantity            0\n",
       "InvoiceDate         0\n",
       "UnitPrice           0\n",
       "CustomerID     135080\n",
       "Country             0\n",
       "dtype: int64"
      ]
     },
     "execution_count": 7,
     "metadata": {},
     "output_type": "execute_result"
    }
   ],
   "source": [
    "df.isnull().sum()"
   ]
  },
  {
   "cell_type": "code",
   "execution_count": 8,
   "id": "f78599b4-dc08-4583-9d02-a23ded19888a",
   "metadata": {},
   "outputs": [],
   "source": [
    "# Remove Missing Customer IDs\n",
    "df = df.dropna(subset=[\"CustomerID\"])"
   ]
  },
  {
   "cell_type": "markdown",
   "id": "110d5f11-88c6-4e34-8a33-8e10182bd2f6",
   "metadata": {},
   "source": [
    "### **_3. Handling Duplicates_**"
   ]
  },
  {
   "cell_type": "code",
   "execution_count": 9,
   "id": "40e28cf0-a7b0-428a-b832-564fd5319165",
   "metadata": {},
   "outputs": [
    {
     "name": "stdout",
     "output_type": "stream",
     "text": [
      "The number of duplicate data records is:  5225\n"
     ]
    }
   ],
   "source": [
    "print('The number of duplicate data records is: ', df.duplicated().sum())"
   ]
  },
  {
   "cell_type": "code",
   "execution_count": 10,
   "id": "29ca595c-66f3-48b5-93d0-03f54f900063",
   "metadata": {},
   "outputs": [],
   "source": [
    "# Remove Duplicates\n",
    "df = df.drop_duplicates()"
   ]
  },
  {
   "cell_type": "markdown",
   "id": "2fdd1f2a-323f-4bf4-9abb-1c3cb76dd989",
   "metadata": {},
   "source": [
    "### **_4. Standardize & Format Data_**"
   ]
  },
  {
   "cell_type": "code",
   "execution_count": 11,
   "id": "fd957c33-4adb-4cd8-a6eb-68958c2e05f2",
   "metadata": {},
   "outputs": [
    {
     "name": "stdout",
     "output_type": "stream",
     "text": [
      "Index(['invoice_no', 'stock_code', 'description', 'quantity', 'invoice_date',\n",
      "       'unit_price', 'customer_id', 'country'],\n",
      "      dtype='object')\n"
     ]
    }
   ],
   "source": [
    "# Convert column names to snake_case\n",
    "df.columns = df.columns.str.replace(r'([a-z])([A-Z])', r'\\1_\\2', regex=True).str.lower()\n",
    "\n",
    "# Display updated column names\n",
    "print(df.columns)"
   ]
  },
  {
   "cell_type": "code",
   "execution_count": 12,
   "id": "0520bebd-9796-44a2-b129-acfe0f5ca87d",
   "metadata": {},
   "outputs": [
    {
     "name": "stdout",
     "output_type": "stream",
     "text": [
      "  invoice_date invoice_time\n",
      "0   2010-12-01     08:26:00\n",
      "1   2010-12-01     08:26:00\n",
      "2   2010-12-01     08:26:00\n",
      "3   2010-12-01     08:26:00\n",
      "4   2010-12-01     08:26:00\n"
     ]
    }
   ],
   "source": [
    "# Convert InvoiceDate to datetime format\n",
    "df[\"invoice_date\"] = pd.to_datetime(df[\"invoice_date\"], format=\"%d-%m-%Y %H:%M\", dayfirst=True)\n",
    "\n",
    "# Extract date and time into separate columns\n",
    "df[\"invoice_time\"] = df[\"invoice_date\"].dt.time  # Extract time\n",
    "df[\"invoice_date\"] = df[\"invoice_date\"].dt.date  # Extract date\n",
    "\n",
    "# Verify changes\n",
    "print(df[[\"invoice_date\", \"invoice_time\"]].head())"
   ]
  },
  {
   "cell_type": "code",
   "execution_count": 13,
   "id": "735e8232-4c68-436b-b138-d34e86f798ba",
   "metadata": {},
   "outputs": [],
   "source": [
    "# Converting Columns to Strings and Other Adjustments\n",
    "df[\"description\"] = df[\"description\"].str.replace('.','').str.upper().str.strip()\n",
    "df[\"description\"] = df[\"description\"].replace('\\s+',' ',regex = True)\n",
    "df[\"invoice_no\"] = df[\"invoice_no\"].astype(str).str.upper()\n",
    "df[\"stock_code\"] = df[\"stock_code\"].astype(str).str.upper()\n",
    "df[\"customer_id\"] = df[\"customer_id\"].astype(str).str.replace(\".0\", \"\")"
   ]
  },
  {
   "cell_type": "markdown",
   "id": "c35f74fb-7185-4b5e-941e-0eb1c57a3ce9",
   "metadata": {},
   "source": [
    "### **_5. Checking Individual Columns_**"
   ]
  },
  {
   "cell_type": "markdown",
   "id": "b4148526-87a3-4e3d-9a49-8f9775cbe928",
   "metadata": {},
   "source": [
    "### _(i) Invoice No_"
   ]
  },
  {
   "cell_type": "code",
   "execution_count": 14,
   "id": "301fd630-2e3b-4d79-a8cc-d6b785322e95",
   "metadata": {},
   "outputs": [
    {
     "name": "stdout",
     "output_type": "stream",
     "text": [
      "invoice_prefix\n",
      "5    392732\n",
      "C      8872\n",
      "Name: count, dtype: int64\n"
     ]
    }
   ],
   "source": [
    "# Extract all unique prefixes in InvoiceNo\n",
    "df[\"invoice_prefix\"] = df[\"invoice_no\"].astype(str).str[0]\n",
    "print(df[\"invoice_prefix\"].value_counts())"
   ]
  },
  {
   "cell_type": "code",
   "execution_count": 15,
   "id": "7e666555-73be-4035-a90c-d95240b195b4",
   "metadata": {},
   "outputs": [
    {
     "name": "stdout",
     "output_type": "stream",
     "text": [
      "Matched Purchases:\n",
      " Empty DataFrame\n",
      "Columns: [invoice_no, stock_code, description, quantity, invoice_date, unit_price, customer_id, country, invoice_time, invoice_prefix]\n",
      "Index: []\n"
     ]
    }
   ],
   "source": [
    "# Check If Canceled Orders in Invoice No. Have a Corresponding Purchase\n",
    "\n",
    "# Extract canceled invoices (InvoiceNo starts with 'C') - Create a copy to avoid warnings\n",
    "canceled_orders = df[df[\"invoice_no\"].str.startswith(\"C\")].copy()\n",
    "\n",
    "# Remove 'C' from InvoiceNo to check for corresponding successful purchases\n",
    "canceled_orders[\"invoice_no_clean\"] = canceled_orders[\"invoice_no\"].str[1:]\n",
    "\n",
    "# Find matching purchases (same InvoiceNo without 'C')\n",
    "matched_purchases = df[df[\"invoice_no\"].isin(canceled_orders[\"invoice_no_clean\"])]\n",
    "\n",
    "# Display matched purchases\n",
    "print(\"Matched Purchases:\\n\", matched_purchases)"
   ]
  },
  {
   "cell_type": "code",
   "execution_count": 16,
   "id": "930b4b7a-c27e-461e-b2f5-709e14f49429",
   "metadata": {},
   "outputs": [
    {
     "name": "stdout",
     "output_type": "stream",
     "text": [
      "Canceled invoices removed.\n"
     ]
    }
   ],
   "source": [
    "# Drop 'invoice_prefix' column\n",
    "df.drop(columns=['invoice_prefix'], inplace=True)\n",
    "\n",
    "# Removing Canceled Invoices\n",
    "df = df[~df[\"invoice_no\"].str.startswith(\"C\")]\n",
    "\n",
    "print(\"Canceled invoices removed.\")"
   ]
  },
  {
   "cell_type": "markdown",
   "id": "6de73dc2-9a02-4297-b67f-57a2e24ca6aa",
   "metadata": {},
   "source": [
    "### _(ii) Stock Code_"
   ]
  },
  {
   "cell_type": "code",
   "execution_count": 17,
   "id": "0ded86d5-2293-4d21-a5d7-1229befb6d77",
   "metadata": {},
   "outputs": [
    {
     "name": "stdout",
     "output_type": "stream",
     "text": [
      "       stock_code                          description\n",
      "0          85123A   WHITE HANGING HEART T-LIGHT HOLDER\n",
      "2          84406B       CREAM CUPID HEARTS COAT HANGER\n",
      "3          84029G  KNITTED UNION FLAG HOT WATER BOTTLE\n",
      "4          84029E        RED WOOLLY HOTTIE WHITE HEART\n",
      "45           POST                              POSTAGE\n",
      "...           ...                                  ...\n",
      "527064     90214T            LETTER \"T\" BLING KEY RING\n",
      "527065     90214U            LETTER \"U\" BLING KEY RING\n",
      "527067     90214W            LETTER \"W\" BLING KEY RING\n",
      "527069     90214Z            LETTER \"Z\" BLING KEY RING\n",
      "537621     85123A   CREAM HANGING HEART T-LIGHT HOLDER\n",
      "\n",
      "[901 rows x 2 columns]\n"
     ]
    }
   ],
   "source": [
    "# Identify stock_code that are NOT exactly 5 digits\n",
    "unique_stock_codes = df[~df[\"stock_code\"].astype(str).str.match(r\"^\\d{5}$\")]\n",
    "\n",
    "# Display invalid stock_code\n",
    "print(unique_stock_codes[[\"stock_code\", \"description\"]].drop_duplicates())"
   ]
  },
  {
   "cell_type": "markdown",
   "id": "c68ef150-c460-4e1d-bb77-68860e3adcee",
   "metadata": {},
   "source": [
    "Two types of observed anomalies in stock_code:\n",
    "\n",
    "- Stock Codes that have a 5-digit number with extra letters (I'll ignore these as they are products).\n",
    "- Stock Codes that do NOT contain any 5-digit number (I'll investigate these further)."
   ]
  },
  {
   "cell_type": "code",
   "execution_count": 18,
   "id": "da690d36-6762-4c38-8b72-b3a96c387dbb",
   "metadata": {},
   "outputs": [
    {
     "data": {
      "text/html": [
       "<div>\n",
       "<style scoped>\n",
       "    .dataframe tbody tr th:only-of-type {\n",
       "        vertical-align: middle;\n",
       "    }\n",
       "\n",
       "    .dataframe tbody tr th {\n",
       "        vertical-align: top;\n",
       "    }\n",
       "\n",
       "    .dataframe thead th {\n",
       "        text-align: right;\n",
       "    }\n",
       "</style>\n",
       "<table border=\"1\" class=\"dataframe\">\n",
       "  <thead>\n",
       "    <tr style=\"text-align: right;\">\n",
       "      <th></th>\n",
       "      <th>stock_code</th>\n",
       "      <th>description</th>\n",
       "    </tr>\n",
       "  </thead>\n",
       "  <tbody>\n",
       "    <tr>\n",
       "      <th>45</th>\n",
       "      <td>POST</td>\n",
       "      <td>POSTAGE</td>\n",
       "    </tr>\n",
       "    <tr>\n",
       "      <th>132</th>\n",
       "      <td>15056BL</td>\n",
       "      <td>EDWARDIAN PARASOL BLACK</td>\n",
       "    </tr>\n",
       "    <tr>\n",
       "      <th>1423</th>\n",
       "      <td>C2</td>\n",
       "      <td>CARRIAGE</td>\n",
       "    </tr>\n",
       "    <tr>\n",
       "      <th>2239</th>\n",
       "      <td>M</td>\n",
       "      <td>MANUAL</td>\n",
       "    </tr>\n",
       "    <tr>\n",
       "      <th>4406</th>\n",
       "      <td>BANK CHARGES</td>\n",
       "      <td>BANK CHARGES</td>\n",
       "    </tr>\n",
       "    <tr>\n",
       "      <th>157195</th>\n",
       "      <td>PADS</td>\n",
       "      <td>PADS TO MATCH ALL CUSHIONS</td>\n",
       "    </tr>\n",
       "    <tr>\n",
       "      <th>317507</th>\n",
       "      <td>DOT</td>\n",
       "      <td>DOTCOM POSTAGE</td>\n",
       "    </tr>\n",
       "  </tbody>\n",
       "</table>\n",
       "</div>"
      ],
      "text/plain": [
       "          stock_code                 description\n",
       "45              POST                     POSTAGE\n",
       "132          15056BL     EDWARDIAN PARASOL BLACK\n",
       "1423              C2                    CARRIAGE\n",
       "2239               M                      MANUAL\n",
       "4406    BANK CHARGES                BANK CHARGES\n",
       "157195          PADS  PADS TO MATCH ALL CUSHIONS\n",
       "317507           DOT              DOTCOM POSTAGE"
      ]
     },
     "metadata": {},
     "output_type": "display_data"
    }
   ],
   "source": [
    "# Find StockCodes that are NOT exactly 5 digits (avoid valid 5-digit numbers & 5-digit + letter)\n",
    "invalid_stock_codes = df[~df[\"stock_code\"].str.match(r\"^\\d{5}[A-Z]?$\")]\n",
    "\n",
    "# Show unique invalid StockCodes with descriptions\n",
    "invalid_stock_codes_unique = invalid_stock_codes[[\"stock_code\", \"description\"]].drop_duplicates()\n",
    "\n",
    "# Display results in Jupyter Notebook\n",
    "display(invalid_stock_codes_unique)"
   ]
  },
  {
   "cell_type": "markdown",
   "id": "173e5e58-052e-4f09-bc8c-8a931c22c8dc",
   "metadata": {},
   "source": [
    "Here, \n",
    "- 15056BL: EDWARDIAN PARASOL BLACK is likely a valid product with color code.\n",
    "- PADS: PADS TO MATCH ALL CUSHIONS appears to be a real product.\n",
    "\n",
    "I will drop the following stock_codes:\n",
    "- POST: POSTAGE this is not a product and likely shipping fees.\n",
    "- C2: CARRIAGE, likely a shipping charge (not a product).\n",
    "- M: Manual, could be an internal manual entry, not a product.\n",
    "- BANK CHARGES: Bank Charges, financial charge, not a saleable item.\n",
    "- DOT: DOTCOM POSTAGE, likely online transaction/shipping charge."
   ]
  },
  {
   "cell_type": "code",
   "execution_count": 19,
   "id": "0bfb7f0c-67e0-4605-b165-6798699f64d8",
   "metadata": {},
   "outputs": [],
   "source": [
    "# List of irrelevant StockCodes to remove\n",
    "irrelevant_stock_codes = [\"POST\", \"C2\", \"M\", \"BANK CHARGES\", \"DOT\"]\n",
    "\n",
    "# Remove these from the dataset\n",
    "df = df[~df[\"stock_code\"].isin(irrelevant_stock_codes)]"
   ]
  },
  {
   "cell_type": "markdown",
   "id": "86f2abc0-b741-4a36-b824-3c90d6396ac9",
   "metadata": {},
   "source": [
    "### _(iii) Quantity_\n",
    "Earlier, despritive statistics showed minimum value of quantity as negative, let's check if they still exists in the dataset."
   ]
  },
  {
   "cell_type": "code",
   "execution_count": 20,
   "id": "1802e296-94fd-4ba4-a370-d5c3db0d9393",
   "metadata": {},
   "outputs": [
    {
     "name": "stdout",
     "output_type": "stream",
     "text": [
      "{'Negative Quantity': 0, 'Zero Quantity': 0}\n"
     ]
    }
   ],
   "source": [
    "# Count negative values\n",
    "value_counts = {\n",
    "    \"Negative Quantity\": (df[\"quantity\"] < 0).sum(),\n",
    "    \"Zero Quantity\": (df[\"quantity\"] == 0).sum()\n",
    "}\n",
    "\n",
    "print(value_counts)"
   ]
  },
  {
   "cell_type": "markdown",
   "id": "7a73d2c8-39ae-4ddd-a1d1-becb7407a818",
   "metadata": {},
   "source": [
    "### _(iv) Unit Price_"
   ]
  },
  {
   "cell_type": "code",
   "execution_count": 21,
   "id": "68f8789f-7d2d-41c7-8c84-2be95888c640",
   "metadata": {},
   "outputs": [
    {
     "name": "stdout",
     "output_type": "stream",
     "text": [
      "{'Negative Unit Price': 0, 'Zero Unit Price': 34}\n"
     ]
    }
   ],
   "source": [
    "# Count negative and zero values\n",
    "value_counts = {\n",
    "    \"Negative Unit Price\": (df[\"unit_price\"] < 0).sum(),\n",
    "    \"Zero Unit Price\": (df[\"unit_price\"] == 0).sum()\n",
    "}\n",
    "\n",
    "print(value_counts)"
   ]
  },
  {
   "cell_type": "code",
   "execution_count": 22,
   "id": "f0c1998d-8ce9-46dd-955b-e48ed6b7eeaf",
   "metadata": {},
   "outputs": [
    {
     "data": {
      "text/html": [
       "<div>\n",
       "<style scoped>\n",
       "    .dataframe tbody tr th:only-of-type {\n",
       "        vertical-align: middle;\n",
       "    }\n",
       "\n",
       "    .dataframe tbody tr th {\n",
       "        vertical-align: top;\n",
       "    }\n",
       "\n",
       "    .dataframe thead th {\n",
       "        text-align: right;\n",
       "    }\n",
       "</style>\n",
       "<table border=\"1\" class=\"dataframe\">\n",
       "  <thead>\n",
       "    <tr style=\"text-align: right;\">\n",
       "      <th></th>\n",
       "      <th>invoice_no</th>\n",
       "      <th>stock_code</th>\n",
       "      <th>description</th>\n",
       "      <th>quantity</th>\n",
       "      <th>invoice_date</th>\n",
       "      <th>unit_price</th>\n",
       "      <th>customer_id</th>\n",
       "      <th>country</th>\n",
       "      <th>invoice_time</th>\n",
       "    </tr>\n",
       "  </thead>\n",
       "  <tbody>\n",
       "    <tr>\n",
       "      <th>9302</th>\n",
       "      <td>537197</td>\n",
       "      <td>22841</td>\n",
       "      <td>ROUND CAKE TIN VINTAGE GREEN</td>\n",
       "      <td>1</td>\n",
       "      <td>2010-12-05</td>\n",
       "      <td>0.0</td>\n",
       "      <td>12647</td>\n",
       "      <td>Germany</td>\n",
       "      <td>14:02:00</td>\n",
       "    </tr>\n",
       "    <tr>\n",
       "      <th>33576</th>\n",
       "      <td>539263</td>\n",
       "      <td>22580</td>\n",
       "      <td>ADVENT CALENDAR GINGHAM SACK</td>\n",
       "      <td>4</td>\n",
       "      <td>2010-12-16</td>\n",
       "      <td>0.0</td>\n",
       "      <td>16560</td>\n",
       "      <td>United Kingdom</td>\n",
       "      <td>14:36:00</td>\n",
       "    </tr>\n",
       "    <tr>\n",
       "      <th>40089</th>\n",
       "      <td>539722</td>\n",
       "      <td>22423</td>\n",
       "      <td>REGENCY CAKESTAND 3 TIER</td>\n",
       "      <td>10</td>\n",
       "      <td>2010-12-21</td>\n",
       "      <td>0.0</td>\n",
       "      <td>14911</td>\n",
       "      <td>EIRE</td>\n",
       "      <td>13:45:00</td>\n",
       "    </tr>\n",
       "    <tr>\n",
       "      <th>47068</th>\n",
       "      <td>540372</td>\n",
       "      <td>22090</td>\n",
       "      <td>PAPER BUNTING RETROSPOT</td>\n",
       "      <td>24</td>\n",
       "      <td>2011-01-06</td>\n",
       "      <td>0.0</td>\n",
       "      <td>13081</td>\n",
       "      <td>United Kingdom</td>\n",
       "      <td>16:41:00</td>\n",
       "    </tr>\n",
       "    <tr>\n",
       "      <th>47070</th>\n",
       "      <td>540372</td>\n",
       "      <td>22553</td>\n",
       "      <td>PLASTERS IN TIN SKULLS</td>\n",
       "      <td>24</td>\n",
       "      <td>2011-01-06</td>\n",
       "      <td>0.0</td>\n",
       "      <td>13081</td>\n",
       "      <td>United Kingdom</td>\n",
       "      <td>16:41:00</td>\n",
       "    </tr>\n",
       "  </tbody>\n",
       "</table>\n",
       "</div>"
      ],
      "text/plain": [
       "      invoice_no stock_code                   description  quantity  \\\n",
       "9302      537197      22841  ROUND CAKE TIN VINTAGE GREEN         1   \n",
       "33576     539263      22580  ADVENT CALENDAR GINGHAM SACK         4   \n",
       "40089     539722      22423      REGENCY CAKESTAND 3 TIER        10   \n",
       "47068     540372      22090       PAPER BUNTING RETROSPOT        24   \n",
       "47070     540372      22553        PLASTERS IN TIN SKULLS        24   \n",
       "\n",
       "      invoice_date  unit_price customer_id         country invoice_time  \n",
       "9302    2010-12-05         0.0       12647         Germany     14:02:00  \n",
       "33576   2010-12-16         0.0       16560  United Kingdom     14:36:00  \n",
       "40089   2010-12-21         0.0       14911            EIRE     13:45:00  \n",
       "47068   2011-01-06         0.0       13081  United Kingdom     16:41:00  \n",
       "47070   2011-01-06         0.0       13081  United Kingdom     16:41:00  "
      ]
     },
     "execution_count": 22,
     "metadata": {},
     "output_type": "execute_result"
    }
   ],
   "source": [
    "df[df[\"unit_price\"] == 0].head(5)"
   ]
  },
  {
   "cell_type": "markdown",
   "id": "18ce9559-7fca-4c3d-ad78-65f2d9f2a887",
   "metadata": {},
   "source": [
    "Since quantity is > 0 but unit price is 0, these could be:\n",
    "\n",
    "- Promotional or free products (intended to be given away for free).\n",
    "- Data entry errors (incorrectly recorded prices).\n",
    "- Bundled products (items sold as part of a deal where unit price isn’t recorded)."
   ]
  },
  {
   "cell_type": "code",
   "execution_count": 23,
   "id": "c4dd030a-6745-4a32-9770-e07182082882",
   "metadata": {
    "scrolled": true
   },
   "outputs": [
    {
     "data": {
      "text/plain": [
       "stock_code  description                        \n",
       "21208       PASTEL COLOUR HONEYCOMB FAN            1\n",
       "23234       BISCUIT TIN VINTAGE CHRISTMAS          1\n",
       "22778       GLASS CLOCHE SMALL                     1\n",
       "22841       ROUND CAKE TIN VINTAGE GREEN           1\n",
       "22899       CHILDREN'S APRON DOLLY GIRL            1\n",
       "22955       36 FOIL STAR CAKE CASES                1\n",
       "22960       JAM MAKING SET WITH JARS               1\n",
       "23157       SET OF 6 NATIVITY MAGNETS              1\n",
       "23268       SET OF 2 CERAMIC CHRISTMAS REINDEER    1\n",
       "21786       POLKADOT RAIN HAT                      1\n",
       "23270       SET OF 2 CERAMIC PAINTED HEARTS        1\n",
       "23407       SET OF 2 TRAYS HOME SWEET HOME         1\n",
       "23480       MINI LIGHTS WOODLAND MUSHROOMS         1\n",
       "47566       PARTY BUNTING                          1\n",
       "84535B      FAIRY CAKES NOTEBOOK A6 SIZE           1\n",
       "84826       ASSTD DESIGN 3D PAPER STICKERS         1\n",
       "22636       CHILDS BREAKFAST SET CIRCUS PARADE     1\n",
       "22625       RED KITCHEN SCALES                     1\n",
       "22619       SET OF 6 SOLDIER SKITTLES              1\n",
       "22580       ADVENT CALENDAR GINGHAM SACK           1\n",
       "22553       PLASTERS IN TIN SKULLS                 1\n",
       "22464       HANGING METAL HEART LANTERN            1\n",
       "22437       SET OF 9 BLACK SKULL BALLOONS          1\n",
       "22423       REGENCY CAKESTAND 3 TIER               1\n",
       "22385       JUMBO BAG SPACEBOY DESIGN              1\n",
       "22168       ORGANISER WOOD ANTIQUE WHITE           1\n",
       "22167       OVAL WALL MIRROR DIAMANTE              1\n",
       "22162       HEART GARLAND RUSTIC PADDED            1\n",
       "22090       PAPER BUNTING RETROSPOT                1\n",
       "22089       PAPER BUNTING VINTAGE PAISLEY          1\n",
       "22065       CHRISTMAS PUDDING TRINKET POT          1\n",
       "22062       CERAMIC BOWL WITH LOVE HEART DESIGN    1\n",
       "22055       MINI CAKE STAND HANGING STRAWBERY      1\n",
       "PADS        PADS TO MATCH ALL CUSHIONS             1\n",
       "Name: count, dtype: int64"
      ]
     },
     "execution_count": 23,
     "metadata": {},
     "output_type": "execute_result"
    }
   ],
   "source": [
    "df[df[\"unit_price\"] == 0][[\"stock_code\", \"description\"]].value_counts()"
   ]
  },
  {
   "cell_type": "markdown",
   "id": "5829a0e9-8137-4b80-8dcb-3baf7e566374",
   "metadata": {},
   "source": [
    "Since each stock_code with unit_price == 0 appears only once, this suggests that:\n",
    "- These items aren't consistently free or promotional (they don’t show up multiple times as free).\n",
    "- It’s likely a data entry error rather than a deliberate discount or bundled deal.\n",
    "\n",
    "Let's drop rows where unit_price is 0."
   ]
  },
  {
   "cell_type": "code",
   "execution_count": 24,
   "id": "8a58fe8a-faca-4790-bac1-ca5d36740975",
   "metadata": {},
   "outputs": [],
   "source": [
    "df = df[df[\"unit_price\"] > 0]"
   ]
  },
  {
   "cell_type": "markdown",
   "id": "aa176dac-2f10-4a9e-ad72-63de13ce57ff",
   "metadata": {},
   "source": [
    "### _(v) Customer ID_\n",
    "Making sure that all customer id's are 5 digit numbers."
   ]
  },
  {
   "cell_type": "code",
   "execution_count": 25,
   "id": "b1eb7595-8c12-4a2e-9597-d00db17e045c",
   "metadata": {},
   "outputs": [
    {
     "data": {
      "text/html": [
       "<div>\n",
       "<style scoped>\n",
       "    .dataframe tbody tr th:only-of-type {\n",
       "        vertical-align: middle;\n",
       "    }\n",
       "\n",
       "    .dataframe tbody tr th {\n",
       "        vertical-align: top;\n",
       "    }\n",
       "\n",
       "    .dataframe thead th {\n",
       "        text-align: right;\n",
       "    }\n",
       "</style>\n",
       "<table border=\"1\" class=\"dataframe\">\n",
       "  <thead>\n",
       "    <tr style=\"text-align: right;\">\n",
       "      <th></th>\n",
       "      <th>invoice_no</th>\n",
       "      <th>stock_code</th>\n",
       "      <th>description</th>\n",
       "      <th>quantity</th>\n",
       "      <th>invoice_date</th>\n",
       "      <th>unit_price</th>\n",
       "      <th>customer_id</th>\n",
       "      <th>country</th>\n",
       "      <th>invoice_time</th>\n",
       "    </tr>\n",
       "  </thead>\n",
       "  <tbody>\n",
       "  </tbody>\n",
       "</table>\n",
       "</div>"
      ],
      "text/plain": [
       "Empty DataFrame\n",
       "Columns: [invoice_no, stock_code, description, quantity, invoice_date, unit_price, customer_id, country, invoice_time]\n",
       "Index: []"
      ]
     },
     "execution_count": 25,
     "metadata": {},
     "output_type": "execute_result"
    }
   ],
   "source": [
    "df[~df[\"customer_id\"].str.match(r\"^\\d{5}$\")]"
   ]
  },
  {
   "cell_type": "markdown",
   "id": "393228f2-9872-4fd6-9462-20dff534bb94",
   "metadata": {},
   "source": [
    "### _(vi) Country_"
   ]
  },
  {
   "cell_type": "code",
   "execution_count": 38,
   "id": "4db2b8b5-df78-4591-9dc5-10dd65a4b67f",
   "metadata": {},
   "outputs": [
    {
     "name": "stdout",
     "output_type": "stream",
     "text": [
      "Countries that are not recognized: {'Cyprus', 'European Community', 'Unspecified', 'Channel Islands', 'Lithuania', 'Malta', 'RSA', 'EIRE', 'USA', 'United Arab Emirates'}\n"
     ]
    }
   ],
   "source": [
    "import plotly.express as px\n",
    "\n",
    "# Get the list of recognized country names from Plotly\n",
    "recognized_countries = set(px.data.gapminder()[\"country\"].unique())\n",
    "\n",
    "# Find unrecognized countries\n",
    "unrecognized_countries = set(df[\"country\"]) - recognized_countries\n",
    "\n",
    "# Print missing countries\n",
    "print(\"Countries that are not recognized:\", unrecognized_countries)"
   ]
  },
  {
   "cell_type": "code",
   "execution_count": 39,
   "id": "cafe8281-7c7f-4e84-a121-e88aa26e6731",
   "metadata": {},
   "outputs": [
    {
     "data": {
      "text/html": [
       "<div>\n",
       "<style scoped>\n",
       "    .dataframe tbody tr th:only-of-type {\n",
       "        vertical-align: middle;\n",
       "    }\n",
       "\n",
       "    .dataframe tbody tr th {\n",
       "        vertical-align: top;\n",
       "    }\n",
       "\n",
       "    .dataframe thead th {\n",
       "        text-align: right;\n",
       "    }\n",
       "</style>\n",
       "<table border=\"1\" class=\"dataframe\">\n",
       "  <thead>\n",
       "    <tr style=\"text-align: right;\">\n",
       "      <th></th>\n",
       "      <th>invoice_no</th>\n",
       "      <th>stock_code</th>\n",
       "      <th>description</th>\n",
       "      <th>quantity</th>\n",
       "      <th>invoice_date</th>\n",
       "      <th>unit_price</th>\n",
       "      <th>customer_id</th>\n",
       "      <th>country</th>\n",
       "      <th>invoice_time</th>\n",
       "    </tr>\n",
       "  </thead>\n",
       "  <tbody>\n",
       "    <tr>\n",
       "      <th>152712</th>\n",
       "      <td>549687</td>\n",
       "      <td>20685</td>\n",
       "      <td>DOORMAT RED RETROSPOT</td>\n",
       "      <td>2</td>\n",
       "      <td>2011-04-11</td>\n",
       "      <td>7.95</td>\n",
       "      <td>12363</td>\n",
       "      <td>Unspecified</td>\n",
       "      <td>13:29:00</td>\n",
       "    </tr>\n",
       "    <tr>\n",
       "      <th>152713</th>\n",
       "      <td>549687</td>\n",
       "      <td>22691</td>\n",
       "      <td>DOORMAT WELCOME SUNRISE</td>\n",
       "      <td>2</td>\n",
       "      <td>2011-04-11</td>\n",
       "      <td>7.95</td>\n",
       "      <td>12363</td>\n",
       "      <td>Unspecified</td>\n",
       "      <td>13:29:00</td>\n",
       "    </tr>\n",
       "    <tr>\n",
       "      <th>152714</th>\n",
       "      <td>549687</td>\n",
       "      <td>48116</td>\n",
       "      <td>DOORMAT MULTICOLOUR STRIPE</td>\n",
       "      <td>2</td>\n",
       "      <td>2011-04-11</td>\n",
       "      <td>7.95</td>\n",
       "      <td>12363</td>\n",
       "      <td>Unspecified</td>\n",
       "      <td>13:29:00</td>\n",
       "    </tr>\n",
       "    <tr>\n",
       "      <th>152715</th>\n",
       "      <td>549687</td>\n",
       "      <td>21213</td>\n",
       "      <td>PACK OF 72 SKULL CAKE CASES</td>\n",
       "      <td>24</td>\n",
       "      <td>2011-04-11</td>\n",
       "      <td>0.55</td>\n",
       "      <td>12363</td>\n",
       "      <td>Unspecified</td>\n",
       "      <td>13:29:00</td>\n",
       "    </tr>\n",
       "    <tr>\n",
       "      <th>152716</th>\n",
       "      <td>549687</td>\n",
       "      <td>21977</td>\n",
       "      <td>PACK OF 60 PINK PAISLEY CAKE CASES</td>\n",
       "      <td>24</td>\n",
       "      <td>2011-04-11</td>\n",
       "      <td>0.55</td>\n",
       "      <td>12363</td>\n",
       "      <td>Unspecified</td>\n",
       "      <td>13:29:00</td>\n",
       "    </tr>\n",
       "    <tr>\n",
       "      <th>...</th>\n",
       "      <td>...</td>\n",
       "      <td>...</td>\n",
       "      <td>...</td>\n",
       "      <td>...</td>\n",
       "      <td>...</td>\n",
       "      <td>...</td>\n",
       "      <td>...</td>\n",
       "      <td>...</td>\n",
       "      <td>...</td>\n",
       "    </tr>\n",
       "    <tr>\n",
       "      <th>308810</th>\n",
       "      <td>564051</td>\n",
       "      <td>23007</td>\n",
       "      <td>SPACEBOY BABY GIFT SET</td>\n",
       "      <td>1</td>\n",
       "      <td>2011-08-22</td>\n",
       "      <td>16.95</td>\n",
       "      <td>14265</td>\n",
       "      <td>Unspecified</td>\n",
       "      <td>13:32:00</td>\n",
       "    </tr>\n",
       "    <tr>\n",
       "      <th>308811</th>\n",
       "      <td>564051</td>\n",
       "      <td>21833</td>\n",
       "      <td>CAMOUFLAGE LED TORCH</td>\n",
       "      <td>12</td>\n",
       "      <td>2011-08-22</td>\n",
       "      <td>1.69</td>\n",
       "      <td>14265</td>\n",
       "      <td>Unspecified</td>\n",
       "      <td>13:32:00</td>\n",
       "    </tr>\n",
       "    <tr>\n",
       "      <th>308812</th>\n",
       "      <td>564051</td>\n",
       "      <td>23081</td>\n",
       "      <td>GREEN METAL BOX ARMY SUPPLIES</td>\n",
       "      <td>2</td>\n",
       "      <td>2011-08-22</td>\n",
       "      <td>8.25</td>\n",
       "      <td>14265</td>\n",
       "      <td>Unspecified</td>\n",
       "      <td>13:32:00</td>\n",
       "    </tr>\n",
       "    <tr>\n",
       "      <th>308813</th>\n",
       "      <td>564051</td>\n",
       "      <td>23046</td>\n",
       "      <td>PAPER LANTERN 9 POINT DELUXE STAR</td>\n",
       "      <td>2</td>\n",
       "      <td>2011-08-22</td>\n",
       "      <td>6.65</td>\n",
       "      <td>14265</td>\n",
       "      <td>Unspecified</td>\n",
       "      <td>13:32:00</td>\n",
       "    </tr>\n",
       "    <tr>\n",
       "      <th>308814</th>\n",
       "      <td>564051</td>\n",
       "      <td>23045</td>\n",
       "      <td>PAPER LANTERN 5 POINT STAR MOON</td>\n",
       "      <td>4</td>\n",
       "      <td>2011-08-22</td>\n",
       "      <td>4.15</td>\n",
       "      <td>14265</td>\n",
       "      <td>Unspecified</td>\n",
       "      <td>13:32:00</td>\n",
       "    </tr>\n",
       "  </tbody>\n",
       "</table>\n",
       "<p>241 rows × 9 columns</p>\n",
       "</div>"
      ],
      "text/plain": [
       "       invoice_no stock_code                         description  quantity  \\\n",
       "152712     549687      20685               DOORMAT RED RETROSPOT         2   \n",
       "152713     549687      22691             DOORMAT WELCOME SUNRISE         2   \n",
       "152714     549687      48116          DOORMAT MULTICOLOUR STRIPE         2   \n",
       "152715     549687      21213         PACK OF 72 SKULL CAKE CASES        24   \n",
       "152716     549687      21977  PACK OF 60 PINK PAISLEY CAKE CASES        24   \n",
       "...           ...        ...                                 ...       ...   \n",
       "308810     564051      23007              SPACEBOY BABY GIFT SET         1   \n",
       "308811     564051      21833                CAMOUFLAGE LED TORCH        12   \n",
       "308812     564051      23081       GREEN METAL BOX ARMY SUPPLIES         2   \n",
       "308813     564051      23046   PAPER LANTERN 9 POINT DELUXE STAR         2   \n",
       "308814     564051      23045     PAPER LANTERN 5 POINT STAR MOON         4   \n",
       "\n",
       "       invoice_date  unit_price customer_id      country invoice_time  \n",
       "152712   2011-04-11        7.95       12363  Unspecified     13:29:00  \n",
       "152713   2011-04-11        7.95       12363  Unspecified     13:29:00  \n",
       "152714   2011-04-11        7.95       12363  Unspecified     13:29:00  \n",
       "152715   2011-04-11        0.55       12363  Unspecified     13:29:00  \n",
       "152716   2011-04-11        0.55       12363  Unspecified     13:29:00  \n",
       "...             ...         ...         ...          ...          ...  \n",
       "308810   2011-08-22       16.95       14265  Unspecified     13:32:00  \n",
       "308811   2011-08-22        1.69       14265  Unspecified     13:32:00  \n",
       "308812   2011-08-22        8.25       14265  Unspecified     13:32:00  \n",
       "308813   2011-08-22        6.65       14265  Unspecified     13:32:00  \n",
       "308814   2011-08-22        4.15       14265  Unspecified     13:32:00  \n",
       "\n",
       "[241 rows x 9 columns]"
      ]
     },
     "execution_count": 39,
     "metadata": {},
     "output_type": "execute_result"
    }
   ],
   "source": [
    "# Filter transactions with \"Unspecified\" country\n",
    "unspecified_df = df[df[\"country\"] == \"Unspecified\"]\n",
    "\n",
    "unspecified_df"
   ]
  },
  {
   "cell_type": "code",
   "execution_count": 40,
   "id": "6dd763d3-d4fd-4f42-becb-ff7f71427b9a",
   "metadata": {},
   "outputs": [
    {
     "data": {
      "text/plain": [
       "array(['12363', '16320', '14265', '12743'], dtype=object)"
      ]
     },
     "execution_count": 40,
     "metadata": {},
     "output_type": "execute_result"
    }
   ],
   "source": [
    "# Get unique customer IDs with unspecified country\n",
    "unspecified_customers = unspecified_df[\"customer_id\"].unique()\n",
    "\n",
    "unspecified_customers"
   ]
  },
  {
   "cell_type": "markdown",
   "id": "deb214db-2e22-48bb-9b1c-48a0435d78dd",
   "metadata": {},
   "source": [
    "We will retain customers with unspecified countries in our analysis to ensure completeness of transactional data. However, we will exclude them when performing any country-specific analyses to maintain accuracy and relevance."
   ]
  },
  {
   "cell_type": "code",
   "execution_count": 41,
   "id": "8713f3a7-5ba7-4d53-8081-a1d66b1c0ae9",
   "metadata": {},
   "outputs": [],
   "source": [
    "country_mapping = {\n",
    "    \"EIRE\": \"Ireland\",\n",
    "    \"USA\": \"United States\",\n",
    "    \"RSA\": \"South Africa\",\n",
    "    \"United Arab Emirates\": \"United Arab Emirates\",  \n",
    "    \"European Community\": \"European Union\",  # No direct match, EU as a substitute\n",
    "    \"Channel Islands\": \"Jersey\",  # Since Jersey is generally more prominent and widely known than Guernsey\n",
    "    \"Unspecified\": \"Unknown\",  # Can be dropped or ignored\n",
    "    \"Malta\": \"Malta\",  \n",
    "    \"Cyprus\": \"Cyprus\",  \n",
    "    \"Lithuania\": \"Lithuania\",  \n",
    "}\n",
    "\n",
    "# Replace unrecognized country names\n",
    "df[\"country\"] = df[\"country\"].replace(country_mapping)"
   ]
  },
  {
   "cell_type": "markdown",
   "id": "b4006434-d84d-4434-af3f-c2c86e4af9ff",
   "metadata": {},
   "source": [
    "### **_6. Adding Total Sales Column_**"
   ]
  },
  {
   "cell_type": "code",
   "execution_count": 42,
   "id": "bf17b9e7-8ec7-4d74-baaf-6d2d244fd5cd",
   "metadata": {},
   "outputs": [
    {
     "name": "stdout",
     "output_type": "stream",
     "text": [
      "   quantity  unit_price  total_sales\n",
      "0         6        2.55        15.30\n",
      "1         6        3.39        20.34\n",
      "2         8        2.75        22.00\n",
      "3         6        3.39        20.34\n",
      "4         6        3.39        20.34\n"
     ]
    }
   ],
   "source": [
    "# Create a new column 'total_sales' = quantity * unit_price\n",
    "df[\"total_sales\"] = df[\"quantity\"] * df[\"unit_price\"]\n",
    "\n",
    "# Round unit_price and total_sales to 2 decimal places\n",
    "df[\"unit_price\"] = df[\"unit_price\"].round(2)\n",
    "df[\"total_sales\"] = df[\"total_sales\"].round(2)\n",
    "\n",
    "# Display first few rows to verify\n",
    "print(df[[\"quantity\", \"unit_price\", \"total_sales\"]].head())"
   ]
  },
  {
   "cell_type": "markdown",
   "id": "940ae4d6-934e-4a5b-aa79-b49962cf2940",
   "metadata": {},
   "source": [
    "### **_7. Save the Cleaned Data as CSV File for Further Analysis_**"
   ]
  },
  {
   "cell_type": "code",
   "execution_count": 43,
   "id": "6c48a051-e5a0-4ecc-aea7-8a9da6bcf274",
   "metadata": {},
   "outputs": [],
   "source": [
    "# Save cleaned dataset\n",
    "df.to_csv(\"online_retail_cleaned.csv\", index=False)"
   ]
  },
  {
   "cell_type": "code",
   "execution_count": null,
   "id": "ea2e7b52-9b7e-412f-8b46-46adcf39f60a",
   "metadata": {},
   "outputs": [],
   "source": []
  }
 ],
 "metadata": {
  "kernelspec": {
   "display_name": "Python 3 (ipykernel)",
   "language": "python",
   "name": "python3"
  },
  "language_info": {
   "codemirror_mode": {
    "name": "ipython",
    "version": 3
   },
   "file_extension": ".py",
   "mimetype": "text/x-python",
   "name": "python",
   "nbconvert_exporter": "python",
   "pygments_lexer": "ipython3",
   "version": "3.9.4"
  }
 },
 "nbformat": 4,
 "nbformat_minor": 5
}
